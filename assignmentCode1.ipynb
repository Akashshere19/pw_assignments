{
  "nbformat": 4,
  "nbformat_minor": 0,
  "metadata": {
    "colab": {
      "provenance": []
    },
    "kernelspec": {
      "name": "python3",
      "display_name": "Python 3"
    },
    "language_info": {
      "name": "python"
    }
  },
  "cells": [
    {
      "cell_type": "markdown",
      "source": [
        "1. Write a Python program to print \"Hello, World!\n",
        "\n",
        "---\n",
        "\n"
      ],
      "metadata": {
        "id": "x_Qj24lWHxAu"
      }
    },
    {
      "cell_type": "code",
      "execution_count": 1,
      "metadata": {
        "colab": {
          "base_uri": "https://localhost:8080/"
        },
        "id": "U0WL5zM0HvQj",
        "outputId": "3c19ca5c-c358-4936-8f33-362db9ba55ad"
      },
      "outputs": [
        {
          "output_type": "stream",
          "name": "stdout",
          "text": [
            "Hello,World!\n"
          ]
        }
      ],
      "source": [
        "print(\"Hello,World!\")"
      ]
    },
    {
      "cell_type": "markdown",
      "source": [
        "2.Write a Python program that displays your name and age"
      ],
      "metadata": {
        "id": "pI0XTsWNIJil"
      }
    },
    {
      "cell_type": "code",
      "source": [
        "name = \"Akash\"\n",
        "age = \"28\"\n",
        "print(name)\n",
        "print(age)"
      ],
      "metadata": {
        "colab": {
          "base_uri": "https://localhost:8080/"
        },
        "id": "-uZ5shteILfD",
        "outputId": "1d34ef10-0b9a-4652-8f4c-46cfad006aba"
      },
      "execution_count": 2,
      "outputs": [
        {
          "output_type": "stream",
          "name": "stdout",
          "text": [
            "Akash\n",
            "28\n"
          ]
        }
      ]
    },
    {
      "cell_type": "markdown",
      "source": [
        "3. Write code to print all the pre-defined keywords in Python using the keyword library"
      ],
      "metadata": {
        "id": "Vt5ZeC93IZdP"
      }
    },
    {
      "cell_type": "code",
      "source": [
        "import keyword\n",
        "print(keyword.kwlist)"
      ],
      "metadata": {
        "colab": {
          "base_uri": "https://localhost:8080/"
        },
        "id": "huREZlOkIbxe",
        "outputId": "174c256a-8b60-4a07-9a92-24b5930e7f4a"
      },
      "execution_count": 5,
      "outputs": [
        {
          "output_type": "stream",
          "name": "stdout",
          "text": [
            "['False', 'None', 'True', 'and', 'as', 'assert', 'async', 'await', 'break', 'class', 'continue', 'def', 'del', 'elif', 'else', 'except', 'finally', 'for', 'from', 'global', 'if', 'import', 'in', 'is', 'lambda', 'nonlocal', 'not', 'or', 'pass', 'raise', 'return', 'try', 'while', 'with', 'yield']\n"
          ]
        }
      ]
    },
    {
      "cell_type": "markdown",
      "source": [
        "4.Write a program that checks if a given word is a Python keyword."
      ],
      "metadata": {
        "id": "wz08oX72I1Bz"
      }
    },
    {
      "cell_type": "code",
      "source": [
        "import keyword\n",
        "user_input = input('enter a word:')\n",
        "if user_input in keyword.kwlist:\n",
        "  print('your word is keyword')\n",
        "else:\n",
        "  print(user_input,'is not keyword')"
      ],
      "metadata": {
        "colab": {
          "base_uri": "https://localhost:8080/"
        },
        "id": "_re7mT8iI2wa",
        "outputId": "6cd4c58d-df50-4a27-aa2b-2df967152362"
      },
      "execution_count": 8,
      "outputs": [
        {
          "output_type": "stream",
          "name": "stdout",
          "text": [
            "enter a word:true\n",
            "true\n"
          ]
        }
      ]
    },
    {
      "cell_type": "markdown",
      "source": [
        "5.Create a list and tuple in Python, and demonstrate how attempting to change an element works differently for each"
      ],
      "metadata": {
        "id": "syGlxktfJkMO"
      }
    },
    {
      "cell_type": "code",
      "source": [
        "lst = ['apple','mango','graphs','orange']\n",
        "lst[2] = 'banana'\n",
        "# print(lst)\n",
        "tup = ('apple','banana','orange','dragon fruit')\n",
        "# tup[1] = 'graphs'\n",
        "# print(tup)"
      ],
      "metadata": {
        "id": "ThS-peAlJvaZ"
      },
      "execution_count": 11,
      "outputs": []
    },
    {
      "cell_type": "markdown",
      "source": [
        "6. Write a function to demonstrate the behavior of mutable and immutable arguments.\n"
      ],
      "metadata": {
        "id": "rksci-CYLBYe"
      }
    },
    {
      "cell_type": "code",
      "source": [
        "# nums[0] = 2345   # TypeError: 'int' object does not support item assignment\n",
        "# print(nums)\n",
        "\n",
        "# myString = \"Hello\"\n",
        "# myString[0:] = \"world!\" # TypeError: 'str' object does not support item assignment\n",
        "# print(myString)\n",
        "\n",
        "# tup = (23,10,16,20)\n",
        "# tup[2] = 40 # TypeError: 'tuple' object does not support item assignment\n",
        "# print(tup)\n",
        "lst = [12,15,19,21]\n",
        "lst[2] = 23\n",
        "print(lst)   # [12, 15, 23, 21]"
      ],
      "metadata": {
        "colab": {
          "base_uri": "https://localhost:8080/"
        },
        "id": "bDVmsRzSLHMY",
        "outputId": "4982b20d-67d1-4c71-d12f-2985e64b3530"
      },
      "execution_count": 13,
      "outputs": [
        {
          "output_type": "stream",
          "name": "stdout",
          "text": [
            "[12, 15, 23, 21]\n"
          ]
        }
      ]
    },
    {
      "cell_type": "markdown",
      "source": [
        "7. Write a program that performs basic arithmetic operations on two user-input numbers."
      ],
      "metadata": {
        "id": "kwLanU1vMTa1"
      }
    },
    {
      "cell_type": "code",
      "source": [
        "user_input1 = int(input('enter 1st number: '))\n",
        "user_input2 = int(input('Enter 2nd number: '))\n",
        "addition = user_input1 + user_input2\n",
        "print(f'Your  {user_input1} and {user_input2} adition is {addition}')"
      ],
      "metadata": {
        "colab": {
          "base_uri": "https://localhost:8080/"
        },
        "id": "e_Pe478AMRQU",
        "outputId": "8c26b820-8fcf-4822-d0da-f351b51b5e9e"
      },
      "execution_count": 15,
      "outputs": [
        {
          "output_type": "stream",
          "name": "stdout",
          "text": [
            "enter 1st number: 14\n",
            "Enter 2nd number: 15\n",
            "Your  14 and 15 adition is 29\n"
          ]
        }
      ]
    },
    {
      "cell_type": "markdown",
      "source": [
        "8.Write a program to demonstrate the use of logical operators."
      ],
      "metadata": {
        "id": "jgyAib5nNUOe"
      }
    },
    {
      "cell_type": "code",
      "source": [
        "user_input = int(input('Enter a number:'))\n",
        "if user_input == 12 and user_input % 2==0:\n",
        "  print(f'your number {user_input} and even')\n",
        "else:\n",
        "  print(f'your number {user_input} not even')"
      ],
      "metadata": {
        "colab": {
          "base_uri": "https://localhost:8080/"
        },
        "id": "6aCk4GDANWBR",
        "outputId": "dfe7dbe6-5052-45a4-80ef-aa06e72ea60a"
      },
      "execution_count": 17,
      "outputs": [
        {
          "output_type": "stream",
          "name": "stdout",
          "text": [
            "Enter a number:19\n",
            "your number 19 not even\n"
          ]
        }
      ]
    },
    {
      "cell_type": "markdown",
      "source": [
        "9.Write a Python program to convert user input from string to integer, float, and boolean types."
      ],
      "metadata": {
        "id": "B71wzaySN8Zs"
      }
    },
    {
      "cell_type": "code",
      "source": [
        "input_user = input('enter a no: ')\n",
        "print('enter data type from list [int,float,boolean]: ')\n",
        "data_type = input('enter data type for convert: ')\n",
        "if data_type == 'int':\n",
        "  print(int(input_user))\n",
        "elif data_type == 'float':\n",
        "  print(float(input_user))\n",
        "elif data_type == 'boolean' or data_type=='bool':\n",
        "  print(bool(input_user))\n",
        "else:\n",
        "  print('enter correct type casting data type')\n"
      ],
      "metadata": {
        "colab": {
          "base_uri": "https://localhost:8080/"
        },
        "id": "9Pu0XTg_N9u0",
        "outputId": "774408f5-43e9-44ed-e03c-733faa6766e3"
      },
      "execution_count": 18,
      "outputs": [
        {
          "output_type": "stream",
          "name": "stdout",
          "text": [
            "enter a no22\n",
            "enter data type from list [int,float,boolean]\n",
            "enter data type for convertint\n",
            "22\n"
          ]
        }
      ]
    },
    {
      "cell_type": "markdown",
      "source": [
        "10. Write code to demonstrate type casting with list elements."
      ],
      "metadata": {
        "id": "0NoNM4nnPKmO"
      }
    },
    {
      "cell_type": "code",
      "source": [
        "lst = ['5',5,10.5,23]\n",
        "data_type = int(lst[0])\n",
        "# print(data_type)\n",
        "data_type_str = str(lst[1])\n",
        "# print(data_type_str)\n",
        "data_type_int = int(lst[2])\n",
        "data_type_float = float(lst[3])\n",
        "# print(data_type_float)\n"
      ],
      "metadata": {
        "colab": {
          "base_uri": "https://localhost:8080/"
        },
        "id": "_PPwUHKuPOVT",
        "outputId": "82d38e75-987a-4945-a19f-94c4a7cdf68f"
      },
      "execution_count": 21,
      "outputs": [
        {
          "output_type": "stream",
          "name": "stdout",
          "text": [
            "23.0\n"
          ]
        }
      ]
    },
    {
      "cell_type": "markdown",
      "source": [
        "11.Write a program that checks if a number is positive, negative, or zero."
      ],
      "metadata": {
        "id": "Ac5ZkZ9hQZhL"
      }
    },
    {
      "cell_type": "code",
      "source": [
        "user_inp = int(input('enter a number: '))\n",
        "if user_inp > 0 :\n",
        "  print(f'Number {user_inp} is greater than zero')\n",
        "elif user_inp < 0:\n",
        "  print(f'Number {user_inp} is negative')\n",
        "else:\n",
        "  print(f'Number {user_inp} is zero')"
      ],
      "metadata": {
        "colab": {
          "base_uri": "https://localhost:8080/"
        },
        "id": "rf7kVi51Qddw",
        "outputId": "97312f2c-3252-4104-dda9-d84c88040156"
      },
      "execution_count": 24,
      "outputs": [
        {
          "output_type": "stream",
          "name": "stdout",
          "text": [
            "enter a number: 12\n",
            "Number 12 is greater than zero\n"
          ]
        }
      ]
    },
    {
      "cell_type": "markdown",
      "source": [
        "12. Write a for loop to print numbers from 1 to 10"
      ],
      "metadata": {
        "id": "9qPdsA9fRl6D"
      }
    },
    {
      "cell_type": "code",
      "source": [
        "for i in range(1,11):\n",
        "  print(i)"
      ],
      "metadata": {
        "colab": {
          "base_uri": "https://localhost:8080/"
        },
        "id": "7_8sVrhlRrBH",
        "outputId": "19417ffd-ef42-445c-d23c-74334e8e39c4"
      },
      "execution_count": 25,
      "outputs": [
        {
          "output_type": "stream",
          "name": "stdout",
          "text": [
            "1\n",
            "2\n",
            "3\n",
            "4\n",
            "5\n",
            "6\n",
            "7\n",
            "8\n",
            "9\n",
            "10\n"
          ]
        }
      ]
    },
    {
      "cell_type": "markdown",
      "source": [
        "13.Write a Python program to find the sum of all even numbers between 1 and 50."
      ],
      "metadata": {
        "id": "-x_Pb_rXSJKV"
      }
    },
    {
      "cell_type": "code",
      "source": [
        "even_np_sum = 0\n",
        "for i in range(1,51):\n",
        "  if i % 2 == 0:\n",
        "    even_np_sum +=i\n",
        "print(even_np_sum)"
      ],
      "metadata": {
        "colab": {
          "base_uri": "https://localhost:8080/"
        },
        "id": "U__GSkK1SMnR",
        "outputId": "d70c2c40-78ff-4fcf-b1be-33ee416a2852"
      },
      "execution_count": 26,
      "outputs": [
        {
          "output_type": "stream",
          "name": "stdout",
          "text": [
            "650\n"
          ]
        }
      ]
    },
    {
      "cell_type": "markdown",
      "source": [
        "14. Write a program to reverse a string using a while loop."
      ],
      "metadata": {
        "id": "Z1w3AdN8S9id"
      }
    },
    {
      "cell_type": "code",
      "source": [
        "myStr = \"Hello World!\"\n",
        "n = len(myStr)\n",
        "while n > 0:\n",
        "  print(myStr[n-1])\n",
        "  n-=1"
      ],
      "metadata": {
        "colab": {
          "base_uri": "https://localhost:8080/"
        },
        "id": "HHYeHVk7S_Zl",
        "outputId": "eb8f2cde-3469-4956-f836-803b110db073"
      },
      "execution_count": 29,
      "outputs": [
        {
          "output_type": "stream",
          "name": "stdout",
          "text": [
            "!\n",
            "d\n",
            "l\n",
            "r\n",
            "o\n",
            "W\n",
            " \n",
            "o\n",
            "l\n",
            "l\n",
            "e\n",
            "H\n"
          ]
        }
      ]
    },
    {
      "cell_type": "markdown",
      "source": [
        "15.Write a Python program to calculate the factorial of a number provided by the user using a while loop."
      ],
      "metadata": {
        "id": "UqRV3VBiTqDz"
      }
    },
    {
      "cell_type": "code",
      "source": [
        "user_fact_input = int(input('enter a number: '))\n",
        "fact = 1\n",
        "while user_fact_input > 0:\n",
        "\n",
        "  fact *= user_fact_input\n",
        "  user_fact_input -=1\n",
        "print(fact)"
      ],
      "metadata": {
        "id": "LxMCPdccTrnu"
      },
      "execution_count": null,
      "outputs": []
    }
  ]
}