{
  "nbformat": 4,
  "nbformat_minor": 0,
  "metadata": {
    "colab": {
      "provenance": []
    },
    "kernelspec": {
      "name": "python3",
      "display_name": "Python 3"
    },
    "language_info": {
      "name": "python"
    }
  },
  "cells": [
    {
      "cell_type": "markdown",
      "source": [
        "1.What are data structures, and why are they important?\n",
        "\n",
        "Data structure is term related to strucuring data.It is way to store or manipulate data in organise way do that we can access easily.\n",
        "Data structure basically depends on memory and variable.If it is stored organise then can access easily.It is reduce line of code and also reduce space in memory that why it is important. some feature are gives here.\n",
        "\n",
        "*   Organise data\n",
        "*   Reduce space in memory\n",
        "*   It store many data types in at one memory location\n",
        "*   Easily accessible"
      ],
      "metadata": {
        "id": "wG40JF3zmONM"
      }
    },
    {
      "cell_type": "markdown",
      "source": [
        "2.Explain the difference between mutable and immutable data types with examples\n",
        "\n",
        "Mutable - It is related to allow changes.\n",
        "Immutable - It is related to doesn't allow to changes.\n",
        "Mutable datatype - those data types are allow to changes inside same memory location after create that are called muatble data types ex. list,set,dictionary.\n",
        "Immutable datatypes - those are doesn't allow to any kind of changes in same memory location after create a data with variable.ex string,int,booloean."
      ],
      "metadata": {
        "id": "Ar0U9YPtn3oi"
      }
    },
    {
      "cell_type": "code",
      "source": [
        "# example of mutable datatypes\n",
        "lst = [2,9,4,6]\n",
        "lst[2] = 44\n",
        "print(lst)\n",
        "\n",
        "myString = \"Hello World!\"\n",
        "myString[2] = 'India'  # 'str' object does not support item assignment\n",
        "print(myString)"
      ],
      "metadata": {
        "colab": {
          "base_uri": "https://localhost:8080/",
          "height": 211
        },
        "id": "XzCiU4dnqFqD",
        "outputId": "085d1de6-a5b2-4ddb-9662-eed7f9979721"
      },
      "execution_count": null,
      "outputs": [
        {
          "output_type": "stream",
          "name": "stdout",
          "text": [
            "[2, 9, 44, 6]\n"
          ]
        },
        {
          "output_type": "error",
          "ename": "TypeError",
          "evalue": "'str' object does not support item assignment",
          "traceback": [
            "\u001b[0;31m---------------------------------------------------------------------------\u001b[0m",
            "\u001b[0;31mTypeError\u001b[0m                                 Traceback (most recent call last)",
            "\u001b[0;32m/tmp/ipython-input-2-722801680.py\u001b[0m in \u001b[0;36m<cell line: 0>\u001b[0;34m()\u001b[0m\n\u001b[1;32m      4\u001b[0m \u001b[0mprint\u001b[0m\u001b[0;34m(\u001b[0m\u001b[0mlst\u001b[0m\u001b[0;34m)\u001b[0m\u001b[0;34m\u001b[0m\u001b[0;34m\u001b[0m\u001b[0m\n\u001b[1;32m      5\u001b[0m \u001b[0mmyString\u001b[0m \u001b[0;34m=\u001b[0m \u001b[0;34m\"Hello World!\"\u001b[0m\u001b[0;34m\u001b[0m\u001b[0;34m\u001b[0m\u001b[0m\n\u001b[0;32m----> 6\u001b[0;31m \u001b[0mmyString\u001b[0m\u001b[0;34m[\u001b[0m\u001b[0;36m2\u001b[0m\u001b[0;34m]\u001b[0m \u001b[0;34m=\u001b[0m \u001b[0;34m'India'\u001b[0m\u001b[0;34m\u001b[0m\u001b[0;34m\u001b[0m\u001b[0m\n\u001b[0m\u001b[1;32m      7\u001b[0m \u001b[0mprint\u001b[0m\u001b[0;34m(\u001b[0m\u001b[0mmyString\u001b[0m\u001b[0;34m)\u001b[0m\u001b[0;34m\u001b[0m\u001b[0;34m\u001b[0m\u001b[0m\n",
            "\u001b[0;31mTypeError\u001b[0m: 'str' object does not support item assignment"
          ]
        }
      ]
    },
    {
      "cell_type": "markdown",
      "source": [
        "3. What are the main differences between lists and tuples in Python?\n",
        "\n",
        "lists - It is unordered mutable hetrogenious datatype.It can allow any changes after create.as i have mentained in last problem\n",
        "tuple - It is unordered immutable hetrogenious data type.It can not allow to us any changes(add,update,remove) after create."
      ],
      "metadata": {
        "id": "txiOWPQbrDaY"
      }
    },
    {
      "cell_type": "markdown",
      "source": [
        "4. Describe how dictionaries store data\n",
        "\n",
        "Dictionary - It is key,value pair data type or data structure.It is doesn't allow duplicate key but we can add values in duplicate.It is ordered datastructure that are allow to changes after create.\n",
        "ex. myDct = {'name':'akash','age':28,2:'kailash'}"
      ],
      "metadata": {
        "id": "072EgZsarrNj"
      }
    },
    {
      "cell_type": "markdown",
      "source": [
        "5.Why might you use a set instead of a list in Python\n",
        "\n",
        "set - It is unordered mutable datastructure.It doesn't allow duplicates elements in set.\n",
        "\n",
        "lists - It is unordered mutable hetrogenious datatype.It can allow any changes after create.\n",
        "so when we want any datastructure where can store data in organise way that time we prefer set because it does not allow duplicate elements.it occupy less memory also that why we prefer set insted list.also dict doesn't allow list as key.\n"
      ],
      "metadata": {
        "id": "25F71uGlsrFq"
      }
    },
    {
      "cell_type": "markdown",
      "source": [
        "6.What is a string in Python, and how is it different from a list\n",
        "\n",
        "string - It is collection of characters in single or double qoutes.string is immutable data types.\n",
        "list - It is hetrogenious collection of datatypes.it is also mutable.\n",
        "\n",
        "ex.myString = \"Hello world!\"\n",
        "   myString[2]=\"l\"  # it is not supported\n",
        "   lst = [3,7,\"hello\",3.67]\n",
        "   lst[2]=\"hello world!\" # it can\n",
        "   print(lst)"
      ],
      "metadata": {
        "id": "Xnq_Hm6AuuCy"
      }
    },
    {
      "cell_type": "markdown",
      "source": [
        "7.How do tuples ensure data integrity in Python\n",
        "tuple is immutable datatype so whenever we store data in tuple then we can not update  in same memory location,and that is thing tuple is gives ensure of data integrity.because we can not any changes through the total program.\n",
        "\n",
        "features of tuple- does not allow changes in tuple after create.It is hashable for dict keys.safe data sharing.\n",
        "this features are ensures tuple provide data integrity."
      ],
      "metadata": {
        "id": "-uAZS7kXuz-4"
      }
    },
    {
      "cell_type": "code",
      "source": [
        "myTuple = (2,7,9)\n",
        "n = int(input('enter any no: '))\n",
        "if n in myTuple:\n",
        "  print('Yes it is available')\n",
        "else:\n",
        "  print('No is not available')"
      ],
      "metadata": {
        "colab": {
          "base_uri": "https://localhost:8080/"
        },
        "id": "Y-DMoBJB8lLh",
        "outputId": "78d091d2-3360-4952-cd54-bd662aaa4c09"
      },
      "execution_count": null,
      "outputs": [
        {
          "output_type": "stream",
          "name": "stdout",
          "text": [
            "enter any no: 7\n",
            "Yes it is\n"
          ]
        }
      ]
    },
    {
      "cell_type": "markdown",
      "source": [
        "8.What is a hash table, and how does it relate to dictionaries in Python\n",
        "\n",
        "Hash table is data structure that provide hash map and it is store data in key value pair.\n",
        "dictionaries also data structure in python that also store in key and value pair."
      ],
      "metadata": {
        "id": "bh4ecjBou3LR"
      }
    },
    {
      "cell_type": "markdown",
      "source": [
        "9.Can lists contain different data types in Python\n",
        "\n",
        "Yes,list can contain store different data types like str,int,bool etc.that is called hetrogenious data type."
      ],
      "metadata": {
        "id": "mP3MD87Fu6sX"
      }
    },
    {
      "cell_type": "code",
      "source": [
        "# example of list contain different type of data\n",
        "lst = [2,9.4,6+2j,'hello',True,(3,8,1),{1:'a',2:'b'}]\n",
        "print(lst)\n",
        "print(type(lst))"
      ],
      "metadata": {
        "colab": {
          "base_uri": "https://localhost:8080/"
        },
        "id": "mTYUqelU--5C",
        "outputId": "5c763941-6dc5-4a58-d49e-f4a5490e0184"
      },
      "execution_count": null,
      "outputs": [
        {
          "output_type": "stream",
          "name": "stdout",
          "text": [
            "[2, 9.4, (6+2j), 'hello', True, (3, 8, 1), {1: 'a', 2: 'b'}]\n",
            "<class 'list'>\n"
          ]
        }
      ]
    },
    {
      "cell_type": "markdown",
      "source": [
        "10.Explain why strings are immutable in Python\n",
        "\n",
        "string is immutable data type because we can't update it after create in same memory location.but we can change use of it function like replace"
      ],
      "metadata": {
        "id": "MFO47z73vEh5"
      }
    },
    {
      "cell_type": "markdown",
      "source": [],
      "metadata": {
        "id": "QxAKRtRBu_S2"
      }
    },
    {
      "cell_type": "markdown",
      "source": [
        "11.What advantages do dictionaries offer over lists for certain tasks\n",
        "\n",
        "dictionary store  data as key,values in memory and it and also store list as values but list can not store in key.values pair.also dictionary does not allow duplicate keys and list as key.so when we want handle data in key,value then we can use dictionary.\n",
        "\n"
      ],
      "metadata": {
        "id": "ypimYTZVACYo"
      }
    },
    {
      "cell_type": "markdown",
      "source": [
        "12.Describe a scenario where using a tuple would be preferable over a list\n",
        "\n",
        "Tuple provide security because its immutbale working but list is mutable.so when we want add new or any update tuple can not do this task.\n",
        "when we want pass any password or security key to whole application.it will send with out any changes.\n"
      ],
      "metadata": {
        "id": "o5afpv_FAIw9"
      }
    },
    {
      "cell_type": "markdown",
      "source": [
        "13.How do sets handle duplicate values in Python\n",
        "\n",
        "set is built in unordered data type.when we are adding new element in set then it is check wheater it is already exists in set or not.if it then it is skip operation without raise an error.\n"
      ],
      "metadata": {
        "id": "of2q51NcAKua"
      }
    },
    {
      "cell_type": "code",
      "source": [
        "mySet = {2,8,4,6}\n",
        "mySet.add(9)\n",
        "mySet.add(8) # here check 8 is already in set then skip add operation\n",
        "print(mySet)"
      ],
      "metadata": {
        "colab": {
          "base_uri": "https://localhost:8080/"
        },
        "id": "UoCpqh-GJh7B",
        "outputId": "3aae3da6-7811-465b-b365-32f627054286"
      },
      "execution_count": null,
      "outputs": [
        {
          "output_type": "stream",
          "name": "stdout",
          "text": [
            "{2, 4, 6, 8, 9}\n"
          ]
        }
      ]
    },
    {
      "cell_type": "markdown",
      "source": [
        "14.How does the “in” keyword work differently for lists and dictionaries\n",
        "\n",
        "\n",
        "\"in\" is indentity keyword in python.when we are check in list then it is check elements and when we check in dictionary then it is check key inside dictionary."
      ],
      "metadata": {
        "id": "TgzUnMXLAOe2"
      }
    },
    {
      "cell_type": "code",
      "source": [
        "myLst = ['shere',4,8.67]\n",
        "print(5 in myLst) # it is check element\n",
        "myDct={1:'akash',3:'shere'}\n",
        "print(3 in myDct) # it is check key"
      ],
      "metadata": {
        "colab": {
          "base_uri": "https://localhost:8080/"
        },
        "id": "OkagPa1FKxXo",
        "outputId": "32fa8f61-4282-4a21-c228-b7557535bc17"
      },
      "execution_count": null,
      "outputs": [
        {
          "output_type": "stream",
          "name": "stdout",
          "text": [
            "False\n",
            "True\n"
          ]
        }
      ]
    },
    {
      "cell_type": "markdown",
      "source": [
        "15.Can you modify the elements of a tuple? Explain why or why not\n",
        "\n",
        "Tuple is immutable data type so we can not change after create a tuple data type.because it is not support to update any data in same memory location after create."
      ],
      "metadata": {
        "id": "LVWTnmItASns"
      }
    },
    {
      "cell_type": "markdown",
      "source": [
        "16.What is a nested dictionary, and give an example of its use case\n",
        "\n",
        "Nested dictionary means a dictionary contains another dictionaries as values.It helps organize complex or grouped data."
      ],
      "metadata": {
        "id": "iKczuCyjMDC6"
      }
    },
    {
      "cell_type": "code",
      "source": [
        "myData = {'data':{'libraries':{'numpy':'2.3.5','pandas':2.1},\n",
        "                  'python_version':3.11},\n",
        "          }\n",
        "myData"
      ],
      "metadata": {
        "colab": {
          "base_uri": "https://localhost:8080/"
        },
        "id": "QgR0nOSDQfPJ",
        "outputId": "4c41daff-eb88-4234-e49e-7940e61efb80"
      },
      "execution_count": null,
      "outputs": [
        {
          "output_type": "execute_result",
          "data": {
            "text/plain": [
              "{'data': {'libraries': {'numpy': '2.3.5', 'pandas': 2.1},\n",
              "  'python_version': 3.11}}"
            ]
          },
          "metadata": {},
          "execution_count": 8
        }
      ]
    },
    {
      "cell_type": "markdown",
      "source": [
        "17.Describe the time complexity of accessing elements in a dictionary\n",
        "\n",
        "Time complexity means taking time for getting data from dict.which means it takes constant time regardless of the size of the dictionary.This is because dictionaries are typically implemented using hash tables.\n",
        "it is TC o(1)"
      ],
      "metadata": {
        "id": "fC5ZxZ4pMEx8"
      }
    },
    {
      "cell_type": "markdown",
      "source": [
        "18.In what situations are lists preferred over dictionaries\n",
        "\n",
        "lists are collection of hetrogenious data types and also it allow duplicates.dict is store in key,values pair.so when we want data store in single elements that time we can use list over dictionary.\n"
      ],
      "metadata": {
        "id": "Ezd6iiwgMIIZ"
      }
    },
    {
      "cell_type": "markdown",
      "source": [
        "19.Why are dictionaries considered unordered, and how does that affect data retrieval\n",
        "\n",
        "Dict is gives unique keys and does not support indexing like list and tuple.insted of index we use key for accessesing data."
      ],
      "metadata": {
        "id": "IAVweiFiMMeP"
      }
    },
    {
      "cell_type": "code",
      "source": [
        "unOrderDct = {1:'a',3:'d',2:'c',5:'f'}\n",
        "unOrderDct"
      ],
      "metadata": {
        "colab": {
          "base_uri": "https://localhost:8080/"
        },
        "id": "SFbAdGN4U8AM",
        "outputId": "0fc8beec-d00b-4d87-ee18-0a02be5098d4"
      },
      "execution_count": null,
      "outputs": [
        {
          "output_type": "execute_result",
          "data": {
            "text/plain": [
              "{1: 'a', 3: 'd', 2: 'c', 5: 'f'}"
            ]
          },
          "metadata": {},
          "execution_count": 9
        }
      ]
    },
    {
      "cell_type": "markdown",
      "source": [
        "20.Explain the difference between a list and a dictionary in terms of data retrieval.\n",
        "\n",
        "list is hetrogenious ordered duplicate allow elements.but dictionary does not support duplicate ordered data and it store data in key,values pair.\n",
        "in list we can insert data using index but in dict we use key.\n",
        "\n",
        "when we want retrive data.list is support index.dict is use key for retrieving data."
      ],
      "metadata": {
        "id": "zwJU8sc3MQCl"
      }
    },
    {
      "cell_type": "code",
      "source": [
        "# i want get 4 from list\n",
        "mylst = [3,9,4,4,5,2,8]\n",
        "print(mylst[3])\n",
        "\n",
        "# i want store same data and want to get 4\n",
        "myDct = {1:3,2:9,3:4,4:4,5:5,6:2,7:8}\n",
        "print(myDct[3]) # here use key"
      ],
      "metadata": {
        "colab": {
          "base_uri": "https://localhost:8080/"
        },
        "id": "BH2Y6Er4XHs6",
        "outputId": "33838495-f958-44b2-b0ac-00c1b6e19e30"
      },
      "execution_count": null,
      "outputs": [
        {
          "output_type": "stream",
          "name": "stdout",
          "text": [
            "4\n",
            "4\n"
          ]
        }
      ]
    },
    {
      "cell_type": "markdown",
      "source": [
        "# **Practical Problems**"
      ],
      "metadata": {
        "id": "Jz9sTQyuMW4F"
      }
    },
    {
      "cell_type": "code",
      "source": [
        "# 1. Write a code to create a string with your name and print it.\n",
        "myName = \"Akash\"\n",
        "print(myName)\n"
      ],
      "metadata": {
        "colab": {
          "base_uri": "https://localhost:8080/"
        },
        "id": "GqXPnqPpMydZ",
        "outputId": "99f52301-5fb7-4489-88ad-87a727d3e7b2"
      },
      "execution_count": null,
      "outputs": [
        {
          "output_type": "stream",
          "name": "stdout",
          "text": [
            "Akash\n"
          ]
        }
      ]
    },
    {
      "cell_type": "code",
      "source": [
        "# 2. Write a code to find the length of the string \"Hello World\".\n",
        "myString = \"Hello world\"\n",
        "print(len(myString))\n",
        "\n",
        "# using for loop\n",
        "# l =0\n",
        "# for i in myString:\n",
        "#   l+=1\n",
        "# print(l)\n"
      ],
      "metadata": {
        "colab": {
          "base_uri": "https://localhost:8080/"
        },
        "id": "Z2dTTwG1YPUa",
        "outputId": "90a467c2-66ba-4381-8fa9-2b26a58d9af9"
      },
      "execution_count": null,
      "outputs": [
        {
          "output_type": "stream",
          "name": "stdout",
          "text": [
            "11\n"
          ]
        }
      ]
    },
    {
      "cell_type": "code",
      "source": [
        "# 3.Write a code to slice the first 3 characters from the string \"Python Programming\"\n",
        "myChar = \"Python Programming\"\n",
        "print(myChar[:3])\n",
        "\n",
        "# using while\n",
        "# l = 0\n",
        "# while l < 3:\n",
        "#   print(myChar[l],end='')\n",
        "#   l+=1"
      ],
      "metadata": {
        "colab": {
          "base_uri": "https://localhost:8080/"
        },
        "id": "XRKO0CWtY6_-",
        "outputId": "1ef7c19d-72bc-47d0-f9fc-9d5006a1ca88"
      },
      "execution_count": null,
      "outputs": [
        {
          "output_type": "stream",
          "name": "stdout",
          "text": [
            "Pyt\n"
          ]
        }
      ]
    },
    {
      "cell_type": "code",
      "source": [
        "# 4.Write a code to convert the string \"hello\" to uppercase\n",
        "lowerWord = \"hello\"\n",
        "helloWord = lowerWord.upper()\n",
        "print(helloWord)\n"
      ],
      "metadata": {
        "colab": {
          "base_uri": "https://localhost:8080/"
        },
        "id": "FAwGd9IfZnyA",
        "outputId": "d667dfed-82ef-4c47-a328-f6533007d22c"
      },
      "execution_count": null,
      "outputs": [
        {
          "output_type": "stream",
          "name": "stdout",
          "text": [
            "HELLO\n"
          ]
        }
      ]
    },
    {
      "cell_type": "code",
      "source": [
        "# 5.Write a code to replace the word \"apple\" with \"orange\" in the string \"I like apple\"\n",
        "words = \"I like apple\"\n",
        "print(words.replace('apple','orange'))\n"
      ],
      "metadata": {
        "colab": {
          "base_uri": "https://localhost:8080/"
        },
        "id": "i3UB5uqSavOp",
        "outputId": "8801fad2-f776-43b6-ffe9-624160ea7e33"
      },
      "execution_count": null,
      "outputs": [
        {
          "output_type": "stream",
          "name": "stdout",
          "text": [
            "I like orange\n"
          ]
        }
      ]
    },
    {
      "cell_type": "code",
      "source": [
        "# 6.Write a code to create a list with numbers 1 to 5 and print it\n",
        "lst = []\n",
        "for i in range(1,6):\n",
        "  lst.append(i)\n",
        "print(lst)\n"
      ],
      "metadata": {
        "colab": {
          "base_uri": "https://localhost:8080/"
        },
        "id": "xhRVyKN8h83_",
        "outputId": "b39f4d92-99dd-4d5c-86ec-2a8e67749dde"
      },
      "execution_count": null,
      "outputs": [
        {
          "output_type": "stream",
          "name": "stdout",
          "text": [
            "[1, 2, 3, 4, 5]\n"
          ]
        }
      ]
    },
    {
      "cell_type": "code",
      "source": [
        "# 7.Write a code to append the number 10 to the list [1, 2, 3, 4]\n",
        "nums = [1,2,3,4]\n",
        "nums.append(10)\n",
        "print(nums)"
      ],
      "metadata": {
        "colab": {
          "base_uri": "https://localhost:8080/"
        },
        "id": "dlcHz8BwiPjY",
        "outputId": "cf2660cf-9848-45fa-9211-7a78113a8c4a"
      },
      "execution_count": null,
      "outputs": [
        {
          "output_type": "stream",
          "name": "stdout",
          "text": [
            "[1, 2, 3, 4, 10]\n"
          ]
        }
      ]
    },
    {
      "cell_type": "code",
      "source": [
        "# 8. Write a code to remove the number 3 from the list [1, 2, 3, 4, 5]\n",
        "nums = [1,2,3,4,5]\n",
        "nums.remove(3)\n",
        "print(nums)"
      ],
      "metadata": {
        "colab": {
          "base_uri": "https://localhost:8080/"
        },
        "id": "yrpZOlTSij0B",
        "outputId": "b2da05a3-c1e8-4ac2-cf96-bce8426b0c07"
      },
      "execution_count": null,
      "outputs": [
        {
          "output_type": "stream",
          "name": "stdout",
          "text": [
            "[1, 2, 4, 5]\n"
          ]
        }
      ]
    },
    {
      "cell_type": "code",
      "source": [
        "# 9.Write a code to access the second element in the list ['a', 'b', 'c', 'd']\n",
        "\n",
        "elements = ['a','b','c','d']\n",
        "print(elements[1])"
      ],
      "metadata": {
        "colab": {
          "base_uri": "https://localhost:8080/"
        },
        "id": "ZLcNM9gUiwT1",
        "outputId": "ddbfb4fa-8795-462e-91b8-906683febd5d"
      },
      "execution_count": null,
      "outputs": [
        {
          "output_type": "stream",
          "name": "stdout",
          "text": [
            "b\n"
          ]
        }
      ]
    },
    {
      "cell_type": "code",
      "source": [
        "# 10. Write a code to reverse the list [10, 20, 30, 40, 50].\n",
        "lst = [10,20,30,40,50]\n",
        "# print(lst[::-1])\n",
        "\n",
        "# using for loop\n",
        "st = 0\n",
        "end = len(lst)-1\n",
        "for i in range(len(lst)//2):\n",
        "  lst[st],lst[end] = lst[end],lst[st]\n",
        "  st+=1\n",
        "  end-=1\n",
        "# print(lst)"
      ],
      "metadata": {
        "id": "oWdbfYe5jFH4"
      },
      "execution_count": null,
      "outputs": []
    },
    {
      "cell_type": "code",
      "source": [
        "# 11. Write a code to create a tuple with the elements 100, 200, 300 and print it.\n",
        "tupNums = (100,200,300)\n",
        "print(tupsNums)"
      ],
      "metadata": {
        "id": "xJYNCaF4kWYi",
        "colab": {
          "base_uri": "https://localhost:8080/"
        },
        "outputId": "3a524f8f-8881-44a9-d2a4-6501db696b63"
      },
      "execution_count": 2,
      "outputs": [
        {
          "output_type": "stream",
          "name": "stdout",
          "text": [
            "(100, 200, 300)\n"
          ]
        }
      ]
    },
    {
      "cell_type": "code",
      "source": [
        "# 12. Write a code to access the second-to-last element of the tuple ('red', 'green', 'blue', 'yellow').\n",
        "colors = ('red','green','blue','yellow')\n",
        "print(colors[1:])"
      ],
      "metadata": {
        "id": "MdbY_Z2lkZGk",
        "colab": {
          "base_uri": "https://localhost:8080/"
        },
        "outputId": "49d10110-bce0-40a3-8174-813170e2baaa"
      },
      "execution_count": 6,
      "outputs": [
        {
          "output_type": "stream",
          "name": "stdout",
          "text": [
            "('green', 'blue', 'yellow')\n"
          ]
        }
      ]
    },
    {
      "cell_type": "code",
      "source": [
        "# 13. Write a code to find the minimum number in the tuple (10, 20, 5, 15).\n",
        "nums = (10,20,5,15)\n",
        "print(min(nums))\n",
        "\n",
        "\n",
        "# using for loop\n",
        "# min_val = nums[0]\n",
        "# for n in nums:\n",
        "#   if min_val > n:\n",
        "#     min_val = n\n",
        "# print(min_val)"
      ],
      "metadata": {
        "id": "pUZJ7kt4keQI",
        "colab": {
          "base_uri": "https://localhost:8080/"
        },
        "outputId": "19d9574a-5231-48e0-caae-d77a7b91504c"
      },
      "execution_count": 9,
      "outputs": [
        {
          "output_type": "stream",
          "name": "stdout",
          "text": [
            "5\n"
          ]
        }
      ]
    },
    {
      "cell_type": "code",
      "source": [
        "# 14. Write a code to find the index of the element \"cat\" in the tuple ('dog', 'cat', 'rabbit').\n",
        "\n",
        "animals = ('dog','cat','rabbit')\n",
        "print(animals.index('cat'))\n",
        "\n",
        "# using while loop\n",
        "\n",
        "# ind_cat = 'cat'\n",
        "# l = len(animals)\n",
        "# i=0\n",
        "# while l > 0:\n",
        "#   if animals[i] == ind_cat:\n",
        "#     break\n",
        "#   i+=1\n",
        "# print(i)"
      ],
      "metadata": {
        "id": "NInFTmr4khn4",
        "colab": {
          "base_uri": "https://localhost:8080/"
        },
        "outputId": "ab7bcbc7-e98f-45ca-995e-aff3b564a6a0"
      },
      "execution_count": 13,
      "outputs": [
        {
          "output_type": "stream",
          "name": "stdout",
          "text": [
            "1\n"
          ]
        }
      ]
    },
    {
      "cell_type": "code",
      "source": [
        "# 15. Write a code to create a tuple containing three different fruits and check if \"kiwi\" is in it.\n",
        "fruits = ('mango','banana','apple','cherry','kiwi','graphs')\n",
        "check = 'kiwi' in fruits\n",
        "if check:\n",
        "  print('Yes Kiwi in fruits')\n",
        "else:\n",
        "  print('Not Found')"
      ],
      "metadata": {
        "id": "KLm50d5Nkk0Q",
        "colab": {
          "base_uri": "https://localhost:8080/"
        },
        "outputId": "4e75c726-54dd-435e-e743-7b329c3f3770"
      },
      "execution_count": 17,
      "outputs": [
        {
          "output_type": "stream",
          "name": "stdout",
          "text": [
            "Yes Kiwi in fruits\n"
          ]
        }
      ]
    },
    {
      "cell_type": "code",
      "source": [
        "# 16. Write a code to create a set with the elements 'a', 'b', 'c' and print it.\n",
        "mySet = set(('a','b','c'))\n",
        "print(mySet)"
      ],
      "metadata": {
        "id": "QR-iLDwnknjo",
        "colab": {
          "base_uri": "https://localhost:8080/"
        },
        "outputId": "03d32038-7d3a-4212-fc86-9a99a87ef0d6"
      },
      "execution_count": 19,
      "outputs": [
        {
          "output_type": "stream",
          "name": "stdout",
          "text": [
            "{'b', 'a', 'c'}\n"
          ]
        }
      ]
    },
    {
      "cell_type": "code",
      "source": [
        "# 17. Write a code to clear all elements from the set {1, 2, 3, 4, 5}.\n",
        "mySet = {1,2,3,4,5}\n",
        "mySet.clear()\n",
        "print(mySet)\n"
      ],
      "metadata": {
        "id": "xBIPFpRtkqaB",
        "colab": {
          "base_uri": "https://localhost:8080/"
        },
        "outputId": "f5001e43-2931-4a74-c868-76aefc89f89b"
      },
      "execution_count": 20,
      "outputs": [
        {
          "output_type": "stream",
          "name": "stdout",
          "text": [
            "set()\n"
          ]
        }
      ]
    },
    {
      "cell_type": "code",
      "source": [
        "# 18. Write a code to remove the element 4 from the set {1, 2, 3, 4}.\n",
        "numsSet = {1,2,3,4}\n",
        "numsSet.remove(4)\n",
        "print(numsSet)"
      ],
      "metadata": {
        "id": "-pLbyL2uktuJ",
        "colab": {
          "base_uri": "https://localhost:8080/"
        },
        "outputId": "3c0c3c52-a6d6-4a4a-992f-75e40814010c"
      },
      "execution_count": 22,
      "outputs": [
        {
          "output_type": "stream",
          "name": "stdout",
          "text": [
            "{1, 2, 3}\n"
          ]
        }
      ]
    },
    {
      "cell_type": "code",
      "source": [
        "# 19. Write a code to find the union of two sets {1, 2, 3} and {3, 4, 5}.\n",
        "set1 = {1,2,3}\n",
        "set2 = {3,4,5}\n",
        "set3 = set1.union(set2)\n",
        "print(set3)\n"
      ],
      "metadata": {
        "id": "qD5zPjFFkwiP",
        "colab": {
          "base_uri": "https://localhost:8080/"
        },
        "outputId": "35645e16-698a-4285-fd1b-871e91de9ff9"
      },
      "execution_count": 23,
      "outputs": [
        {
          "output_type": "stream",
          "name": "stdout",
          "text": [
            "{1, 2, 3, 4, 5}\n"
          ]
        }
      ]
    },
    {
      "cell_type": "code",
      "source": [
        "# 20. Write a code to find the intersection of two sets {1, 2, 3} and {2, 3, 4}.\n",
        "s1 ={1,2,3}\n",
        "s2 = {2,3,4}\n",
        "s3 = s1.intersection(s2)\n",
        "print(s3)"
      ],
      "metadata": {
        "id": "9k_AOFpnkzQz",
        "colab": {
          "base_uri": "https://localhost:8080/"
        },
        "outputId": "2914f2ce-b87d-4d14-8674-8e839b23303a"
      },
      "execution_count": 24,
      "outputs": [
        {
          "output_type": "stream",
          "name": "stdout",
          "text": [
            "{2, 3}\n"
          ]
        }
      ]
    },
    {
      "cell_type": "code",
      "source": [
        "# 21. Write a code to create a dictionary with the keys \"name\", \"age\", and \"city\", and print it.\n",
        "myData = {\"name\":\"Akshay\",\"age\":29,\"city\":\"Pune\"}\n",
        "print(myData)"
      ],
      "metadata": {
        "id": "oy0j4iSRk4OB",
        "colab": {
          "base_uri": "https://localhost:8080/"
        },
        "outputId": "48ab223d-a2c0-4352-f810-964d3a143c02"
      },
      "execution_count": 25,
      "outputs": [
        {
          "output_type": "stream",
          "name": "stdout",
          "text": [
            "{'name': 'Akshay', 'age': 29, 'city': 'Pune'}\n"
          ]
        }
      ]
    },
    {
      "cell_type": "code",
      "source": [
        "# 22. Write a code to add a new key-value pair \"country\": \"USA\" to the dictionary {'name': 'John', 'age': 25}.\n",
        "myDct  = {'name': 'John', 'age': 25}\n",
        "myDct['country'] = 'USA'\n",
        "print(myDct)"
      ],
      "metadata": {
        "id": "nOeNNHIVk79Q",
        "colab": {
          "base_uri": "https://localhost:8080/"
        },
        "outputId": "8c94135e-fa77-4f3c-d916-78fb254c70c6"
      },
      "execution_count": 26,
      "outputs": [
        {
          "output_type": "stream",
          "name": "stdout",
          "text": [
            "{'name': 'John', 'age': 25, 'country': 'USA'}\n"
          ]
        }
      ]
    },
    {
      "cell_type": "code",
      "source": [
        "# 23. Write a code to access the value associated with the key \"name\" in the dictionary {'name': 'Alice', 'age': 30}.\n",
        "myDict = {'name':'Alice','age':30}\n",
        "print(myDict.get('name'))"
      ],
      "metadata": {
        "id": "9VCWpdO-k-pn",
        "colab": {
          "base_uri": "https://localhost:8080/"
        },
        "outputId": "45691126-606d-443e-d323-a7aeddc7536c"
      },
      "execution_count": 27,
      "outputs": [
        {
          "output_type": "stream",
          "name": "stdout",
          "text": [
            "Alice\n"
          ]
        }
      ]
    },
    {
      "cell_type": "code",
      "source": [
        "# 24. Write a code to remove the key \"age\" from the dictionary {'name': 'Bob', 'age': 22, 'city': 'New York'}.\n",
        "myDetails = {'name': 'Bob', 'age': 22, 'city': 'New York'}\n",
        "myDetails.pop('age')\n",
        "print(myDetails)\n"
      ],
      "metadata": {
        "id": "eDL812Q_lBwz",
        "colab": {
          "base_uri": "https://localhost:8080/"
        },
        "outputId": "096218b0-8645-4306-e369-c83fdcd5818d"
      },
      "execution_count": 29,
      "outputs": [
        {
          "output_type": "stream",
          "name": "stdout",
          "text": [
            "{'name': 'Bob', 'city': 'New York'}\n"
          ]
        }
      ]
    },
    {
      "cell_type": "code",
      "source": [
        "# 25. Write a code to check if the key \"city\" exists in the dictionary {'name': 'Alice', 'city': 'Paris'}.\n",
        "details = {'name': 'Alice', 'city': 'Paris'}\n",
        "print('city' in details)"
      ],
      "metadata": {
        "id": "Exqr7adSlFBH",
        "colab": {
          "base_uri": "https://localhost:8080/"
        },
        "outputId": "a90f6016-e07b-4d5e-c6f6-3106eba7c6a6"
      },
      "execution_count": 30,
      "outputs": [
        {
          "output_type": "stream",
          "name": "stdout",
          "text": [
            "True\n"
          ]
        }
      ]
    },
    {
      "cell_type": "code",
      "source": [
        "# 26. Write a code to create a list, a tuple, and a dictionary, and print them all.\n",
        "lst = [3,4,5,6,2]\n",
        "tup = (5,9,2,7)\n",
        "dct = {1:4,2:'a',3:4.66}\n",
        "print(f'list: {lst}')\n",
        "print(f'tuple {tup}')\n",
        "print(f'dictionary: {dct}')"
      ],
      "metadata": {
        "id": "nWDQPCLdlIiL",
        "colab": {
          "base_uri": "https://localhost:8080/"
        },
        "outputId": "c9ec9365-5770-4666-8e1a-85ec29ef0c3a"
      },
      "execution_count": 31,
      "outputs": [
        {
          "output_type": "stream",
          "name": "stdout",
          "text": [
            "list: [3, 4, 5, 6, 2]\n",
            "tuple (5, 9, 2, 7)\n",
            "dictionary: {1: 4, 2: 'a', 3: 4.66}\n"
          ]
        }
      ]
    },
    {
      "cell_type": "code",
      "source": [
        "# 27. Write a code to create a list of 5 random numbers between 1 and 100, sort it in ascending order, and print the result.(replaced)\n",
        "lst = [45,12,90,23,20]\n",
        "lst.sort()\n",
        "print(lst)\n",
        "\n",
        "# using selection sort\n",
        "l = len(lst)\n",
        "for i in range(l):\n",
        "  min_ind = i\n",
        "  for j in range(i+1,l):\n",
        "    if lst[j] < lst[min_ind]:\n",
        "      min_ind = j\n",
        "  lst[i],lst[min_ind]  = lst[min_ind],lst[i]\n",
        "# print(lst)\n",
        "\n",
        "\n"
      ],
      "metadata": {
        "id": "0bRl2bUZlNKW",
        "colab": {
          "base_uri": "https://localhost:8080/"
        },
        "outputId": "47132b84-4266-4c9f-c27d-6b7b1b823eda"
      },
      "execution_count": 45,
      "outputs": [
        {
          "output_type": "stream",
          "name": "stdout",
          "text": [
            "[12, 20, 23, 45, 90]\n"
          ]
        }
      ]
    },
    {
      "cell_type": "code",
      "source": [
        "# 28. Write a code to create a list with strings and print the element at the third index.\n",
        "lst = [\"hello\",'world','how','are','you']\n",
        "print(lst[3])"
      ],
      "metadata": {
        "id": "vcMcHG9AlTsx",
        "colab": {
          "base_uri": "https://localhost:8080/"
        },
        "outputId": "b378777f-2c4a-4c8e-ce68-91aa3b6d65c5"
      },
      "execution_count": 46,
      "outputs": [
        {
          "output_type": "stream",
          "name": "stdout",
          "text": [
            "are\n"
          ]
        }
      ]
    },
    {
      "cell_type": "code",
      "source": [
        "# 29. Write a code to combine two dictionaries into one and print the result.\n",
        "dct1 ={'name':'sayali',\"age\":28,'city':'mumbai'}\n",
        "dct2 = {'state':'maharashtra','post':440067}\n",
        "dct1.update(dct2)\n",
        "print(dct1)"
      ],
      "metadata": {
        "id": "4Eh7REiwlXJ4",
        "colab": {
          "base_uri": "https://localhost:8080/"
        },
        "outputId": "64430741-437b-4ea8-f73a-2ecce852fb46"
      },
      "execution_count": 51,
      "outputs": [
        {
          "output_type": "stream",
          "name": "stdout",
          "text": [
            "{'name': 'sayali', 'age': 28, 'city': 'mumbai', 'state': 'maharashtra', 'post': 440067}\n"
          ]
        }
      ]
    },
    {
      "cell_type": "code",
      "source": [
        "# 30. Write a code to convert a list of strings into a set.\n",
        "lstString = ['a','d','f','b','a','c','b']\n",
        "convertSet = set(lstString)\n",
        "print(convertSet)"
      ],
      "metadata": {
        "id": "ju0Dxe8FlZ9f",
        "colab": {
          "base_uri": "https://localhost:8080/"
        },
        "outputId": "3e879a5c-cc8f-4100-d7cc-9f5a0e902617"
      },
      "execution_count": 52,
      "outputs": [
        {
          "output_type": "stream",
          "name": "stdout",
          "text": [
            "{'a', 'd', 'b', 'f', 'c'}\n"
          ]
        }
      ]
    }
  ]
}