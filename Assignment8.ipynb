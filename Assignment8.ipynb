{
  "nbformat": 4,
  "nbformat_minor": 0,
  "metadata": {
    "colab": {
      "provenance": []
    },
    "kernelspec": {
      "name": "python3",
      "display_name": "Python 3"
    },
    "language_info": {
      "name": "python"
    }
  },
  "cells": [
    {
      "cell_type": "markdown",
      "source": [
        "**Question 1: What is the difference between descriptive statistics and inferential statistics? Explain with examples.**\n",
        "\n",
        "\n",
        "Statistics help us to make sense of data through collection,analysis and presentation.\n",
        "\n",
        "\n",
        "\n",
        "**Descriptive statistics** refers to the process of summarizing and analyzing data to describe its main features in a clear and meaningful way.\n",
        "*  helps in organizing, analyzing, and to present data in a meaningful manner.\n",
        "\n",
        "\n",
        "*  It is used to describe a situation.\n",
        "*  Examples include: mean, median, mode, range, variance, histograms, pie charts.\n",
        "\n",
        "\n",
        "\n",
        "**Inferential statistics** involves using data from a sample to make predictions, generalizations, or conclusions about a larger population.\n",
        "*   It allows us to compare data, and make hypotheses and predictions.\n",
        "*   It is used to explain the chance of occurrence of an event.\n",
        "*   Examples include: confidence intervals, hypothesis testing, regression models, p-values.\n",
        "\n",
        "\n",
        "\n",
        "\n",
        "Example of descriptive:\n",
        "There is a students in class room and we need to find average present student.then we use descriptive statistics like median or mean.\n",
        "\n",
        "Example of Inferential:\n",
        "The best example of inferntial statistics is conducting an election poll.\n",
        "survey,polling,"
      ],
      "metadata": {
        "id": "Hq66vZQg4Ew8"
      }
    },
    {
      "cell_type": "markdown",
      "source": [
        "Question2 : What is sampling in statistics? Explain the differences between random and stratified sampling.\n",
        "\n",
        "Sampling is collecting small group of data from large dataset and find out and proccess on it.called a population, to gather information  and make inferences about the entire population.\n",
        "\n",
        "\n",
        "*  Random sampling selects a sample from the entire population where every individual has an equal chance of selection.\n",
        "*  A random selection mechanism (like a lottery)\n",
        "\n",
        "*  stratified sampling first divides the population into subgroups (strata) based on characteristics and then takes a random sample from each subgroup, ensuring all groups are represented.\n",
        "*  After the population is divided into strata, a simple random sample is taken from each stratum\n",
        "\n"
      ],
      "metadata": {
        "id": "SIZwaRvH7vjA"
      }
    },
    {
      "cell_type": "markdown",
      "source": [
        "Question 3: Define mean, median, and mode. Explain why these measures of central\n",
        "tendency are important.\n",
        "\n",
        "In statistics, mean, median, and mode are measures of central tendency used to find a single, typical value in a dataset\n",
        "\n",
        "**mean -**  The mean is the arithmetic average (sum of all values divided by the count)\n",
        "\n",
        "**median - ** The median is the middle value in an ordered dataset.\n",
        "\n",
        "**model - ** The mode is the value that appears most frequently in the dataset.\n",
        "\n",
        "central tendency are important because they provide a single, representative value for a dataset, simplifying complex data and making it easier to understand and interpret.\n"
      ],
      "metadata": {
        "id": "Gpjhwzq4_CoC"
      }
    },
    {
      "cell_type": "markdown",
      "source": [
        "Question 4: Explain skewness and kurtosis. What does a positive skew imply about the data?\n",
        "\n",
        " Skewness is helps to determine the asymmetrical behavior of the frequency distribution.\n",
        " Kurtosis - It gives an idea about the shape of a frequency distribution.\n",
        "\n",
        "\n",
        " positive skew implies that the data distribution has a long tail on the right side, meaning most of the data points are clustered on the lower side, and there are a few extremely high values."
      ],
      "metadata": {
        "id": "dnzwfQSg_GJU"
      }
    },
    {
      "cell_type": "code",
      "source": [
        "# Question 5: Implement a Python program to compute the mean, median, and mode of\n",
        "# a given list of numbers.\n",
        "numbers = [12, 15, 12, 18, 19, 12, 20, 22, 19, 19, 24, 24, 24, 26, 28]\n",
        "# mean = sum of total numbers // length of numbers\n",
        "mean = sum(numbers)//len(numbers)\n",
        "print('mean: ',mean)\n",
        "\n",
        "len_nums = len(numbers)\n",
        "numbers.sort()\n",
        "# print(numbers)\n",
        "\n",
        "if len_nums % 2 == 0:\n",
        "     median1 = numbers[len_nums//2]\n",
        "     median2 = numbers[len_nums//2 - 1]\n",
        "     median = (median1 + median2)/2\n",
        "else:\n",
        "  median = numbers[len_nums//2]\n",
        "\n",
        "print('median: ',median)\n",
        "\n",
        "\n",
        "data = {}\n",
        "for i in numbers:\n",
        "  if i in data:\n",
        "    data[i] +=1\n",
        "  else:\n",
        "    data[i] = 1\n",
        "# print(max(data.values()))\n",
        "mode = None\n",
        "max_value =  max(data.values())\n",
        "for i,k in data.items():\n",
        "  if k == max_value:\n",
        "     mode = i\n",
        "# print(max_value)\n",
        "print('mode: ',mode)\n",
        "\n"
      ],
      "metadata": {
        "colab": {
          "base_uri": "https://localhost:8080/"
        },
        "id": "68UZKsTmDp6-",
        "outputId": "6429f13c-65d7-4c4b-ce46-4113489d399a"
      },
      "execution_count": null,
      "outputs": [
        {
          "output_type": "stream",
          "name": "stdout",
          "text": [
            "mean:  19\n",
            "median:  19\n",
            "mode:  24\n"
          ]
        }
      ]
    },
    {
      "cell_type": "markdown",
      "source": [
        "Question 6: What is the Central Limit Theorem (CLT), and why is it critical in statistics?\n",
        "\n",
        "It is fundamental statistical concept and states that when large enough random samples are taken from any population (regardless of its original distribution), the distribution of the sample means will approximate a normal distribution (bell curve), with the mean equal to the population mean and the standard deviation decreasing as sample size increases.\n",
        "\n",
        "\n",
        "It is critical reasons:\n",
        "\n",
        "*  Enables Inference\n",
        "*  Justifies Parametric Tests\n",
        "*  Simplifies Analysis\n",
        "*  Foundation for Confidence Intervals\n",
        "*  Support application"
      ],
      "metadata": {
        "id": "jPj6pJpOG9eB"
      }
    },
    {
      "cell_type": "markdown",
      "source": [
        "Question 7: What is the significance of confidence intervals in statistical analysis?\n",
        "\n",
        "Confidence intervals provide a range of plausible values for an unknown population parameter, conveying both the likely location of the parameter and the precision of the estimate.is a range of values that contains the true value of something\n",
        "\n",
        "Significance:\n",
        "\n",
        "* Quantifying Uncertainty\n",
        "* Assessing Precision and Stability\n",
        "* Beyond Statistical Significance\n",
        "* Informing Data-Driven Decisions\n",
        "* Indicating Statistical Significance"
      ],
      "metadata": {
        "id": "AH7aM7VpdByp"
      }
    },
    {
      "cell_type": "markdown",
      "source": [
        "Question 8: What is the concept of expected value in a probability distribution?\n",
        "\n",
        "The expected value, also known as the mean or expectation, of a random variable in a probability distribution represents the long-term average outcome if the underlying random experiment were to be repeated numerous times. It provides a measure of the central tendency of the distribution.\n",
        "\n",
        "The concept of expected value in a probability distribution refers to the theoretical long-term average or mean outcome of a random variable"
      ],
      "metadata": {
        "id": "Ly_nqE40d8Yt"
      }
    },
    {
      "cell_type": "code",
      "source": [
        "# Question 9: Write a Python program to generate 1000 random numbers from a normal\n",
        "# distribution with mean = 50 and standard deviation = 5. Compute its mean and standard\n",
        "# deviation using NumPy, and draw a histogram to visualize the distribution.\n",
        "\n",
        "import numpy as np\n",
        "import matplotlib.pyplot as plt\n",
        "mean = 50\n",
        "std_dev = 5\n",
        "\n",
        "num_samples = 1000\n",
        "\n",
        "random_num = np.random.normal(loc=mean,scale=std_dev,size=num_samples)\n",
        "com_mean = np.mean(random_num)\n",
        "computed_std_dev = np.std(random_num)\n",
        "print(f'generated mean {com_mean:.2f}')\n",
        "print(f'generated number standard dev {computed_std_dev:.2f} ')\n",
        "plt.figure(figsize=(8, 6))\n",
        "plt.hist(random_num, bins=30, density=True, alpha=0.7, color='skyblue', edgecolor='black')\n",
        "plt.title('Histogram of Random Numbers from Normal Distribution')\n",
        "plt.xlabel('Value')\n",
        "plt.ylabel('Density')\n",
        "plt.grid(True)\n",
        "plt.show()\n"
      ],
      "metadata": {
        "colab": {
          "base_uri": "https://localhost:8080/",
          "height": 599
        },
        "id": "kJrHWUn4ehnc",
        "outputId": "daacf7a5-6f47-4d66-8ef3-744d5f8123e3"
      },
      "execution_count": 3,
      "outputs": [
        {
          "output_type": "stream",
          "name": "stdout",
          "text": [
            "generated mean 49.99\n",
            "generated number standard dev 5.18 \n"
          ]
        },
        {
          "output_type": "display_data",
          "data": {
            "text/plain": [
              "<Figure size 800x600 with 1 Axes>"
            ],
            "image/png": "[encoded data removed]"
          },
          "metadata": {}
        }
      ]
    },
    {
      "cell_type": "code",
      "source": [
        "# Question 10: You are working as a data analyst for a retail company. The company has\n",
        "# collected daily sales data for 2 years and wants you to identify the overall sales trend.\n",
        "# daily_sales = [220, 245, 210, 265, 230, 250, 260, 275, 240, 255,\n",
        "# 235, 260, 245, 250, 225, 270, 265, 255, 250, 260]\n",
        "# ●​ Explain how you would apply the Central Limit Theorem to estimate the average sales\n",
        "# with a 95% confidence interval.\n",
        "# ●​ Write the Python code to compute the mean sales and its confidence interval.\n",
        "\n",
        "\n",
        "import numpy as np\n",
        "import scipy as stats\n",
        "from scipy.stats import t\n",
        "\n",
        "daily_sales = [220, 245, 210, 265, 230, 250, 260, 275, 240, 255,\n",
        "               235, 260, 245, 250, 225, 270, 265, 255, 250, 260]\n",
        "\n",
        "sample_mean = np.mean(daily_sales)\n",
        "sample_std_dev = np.std(daily_sales, ddof=1)\n",
        "sample_size = len(daily_sales)\n",
        "standard_error = sample_std_dev / np.sqrt(sample_size)\n",
        "confidence_level = 0.95\n",
        "alpha = 1 - confidence_level\n",
        "degrees_freedom = sample_size - 1\n",
        "t_critical = t.ppf(1 - alpha/2, degrees_freedom)\n",
        "margin_of_error = t_critical * standard_error\n",
        "confidence_interval_lower = sample_mean - margin_of_error\n",
        "confidence_interval_upper = sample_mean + margin_of_error\n",
        "\n",
        "print(f\"Sample Mean Sales: {sample_mean:.2f}\")\n",
        "print(f\"95% Confidence Interval: ({confidence_interval_lower:.2f}, {confidence_interval_upper:.2f})\")\n"
      ],
      "metadata": {
        "colab": {
          "base_uri": "https://localhost:8080/"
        },
        "id": "uuee3zZ7esBl",
        "outputId": "65408c1a-d941-402e-95ee-8de058557479"
      },
      "execution_count": 7,
      "outputs": [
        {
          "output_type": "stream",
          "name": "stdout",
          "text": [
            "Sample Mean Sales: 248.25\n",
            "95% Confidence Interval: (240.17, 256.33)\n"
          ]
        }
      ]
    }
  ]
}