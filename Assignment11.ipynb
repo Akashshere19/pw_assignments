{
  "nbformat": 4,
  "nbformat_minor": 0,
  "metadata": {
    "colab": {
      "provenance": []
    },
    "kernelspec": {
      "name": "python3",
      "display_name": "Python 3"
    },
    "language_info": {
      "name": "python"
    }
  },
  "cells": [
    {
      "cell_type": "markdown",
      "source": [
        "Question 1: Explain the differences between AI, ML, Deep Learning (DL), and Data\n",
        "Science (DS).\n",
        "\n",
        "AI - It is Artificial Intelligence large field.It make normal computer super intelligence using various sub-fields like NLP,ML,DL.\n",
        "\n",
        "ML - It is sub field of AI,which is teach to machine using various methods like supervised, unsupervised, Reinforcement learning etc.It is a subset of artificial intelligence (AI) that focuses on the development of computer algorithms that improve automatically through experience and by the use of data\n",
        "\n",
        "Deep Learning - It is sub field of ML which is a subfield of machine learning dealing with algorithms based essentially on multi-layered artificial neural networks (ANN) that are inspired by the structure of the human brain.\n",
        "\n",
        "Data Science - extracts knowledge and insights from structured and unstructured data by combining skills in statistics, mathematics, computer science, and domain expertise to make informed predictions and decisions\n",
        "\n",
        "\n"
      ],
      "metadata": {
        "id": "s6wcimMxN8Ii"
      }
    },
    {
      "cell_type": "markdown",
      "source": [
        "Question 2: What are the types of machine learning? Describe each with one\n",
        "real-world example.\n",
        "\n",
        "ML types -\n",
        "* supervised learning - when a model gets trained on a \"Labelled Dataset\",\n",
        "                        ex. Spam detection,Image classification.\n",
        "* Unsupervised learning - when a model gets trained on a \"Unlabelled Dataset\".\n",
        "                       ex. Anomaly detection\n",
        "* Semi-supervised learning -\n",
        "* Reinforcement learning - is a learning method that interacts with the environment by producing actions and discovering errors. Trial, error, and delay are the most relevant characteristics of reinforcement learning.\n",
        "ex.Robotics\n",
        "\n"
      ],
      "metadata": {
        "id": "zBJawWGQOA65"
      }
    },
    {
      "cell_type": "markdown",
      "source": [
        "Question 3: Define overfitting, underfitting, and the bias-variance tradeoff in machine learning.\n",
        "\n",
        "* Overfitting - It is happens when a model learns too much from the training data, including details that don’t matter (like noise or outliers).\n",
        "* underfitting - Underfitting is the opposite of overfitting. It happens when a model is too simple to capture what’s going on in the data.\n",
        "* bias-variance - is the difference between the average prediction of our model and the correct value which we are trying to predict.is the variability of model prediction for a given data point or a value that tells us the spread of our data.\n"
      ],
      "metadata": {
        "id": "xmksYU_4OD_u"
      }
    },
    {
      "cell_type": "markdown",
      "source": [
        "Question 4: What are outliers in a dataset, and list three common techniques for\n",
        "handling them.\n",
        "\n",
        "Outliers serve as captivating anomalies that frequently harbor profound insights within datasets.in the context of information evaluation, are information points that deviate significantly from the observations in a dataset.\n",
        "* Trimming/Remove the outliers\n",
        "* Quantile Based Flooring and Capping\n",
        "* Mean/Median Imputation\n",
        "* Visualizing the Data after Treating the Outlier\n"
      ],
      "metadata": {
        "id": "bjOJ66yUOG18"
      }
    },
    {
      "cell_type": "markdown",
      "source": [
        "Question 5: Explain the process of handling missing values and mention one\n",
        "imputation technique for numerical and one for categorical data.\n",
        "\n",
        "Numerical data, Mean/Median Imputation replaces missing values with the mean or median of the column. For categorical data, Mode Imputation fills missing values with the most frequent category in the column.\n",
        "* Identify Missing Values:\n",
        "* Understand the Data and Missingness\n",
        "* Choose a Strategy : deletion,imputation.\n",
        "* Apply the Strategy\n",
        "* Validate and Test"
      ],
      "metadata": {
        "id": "5JDOPafvOJmW"
      }
    },
    {
      "cell_type": "markdown",
      "source": [
        "Question 6: Write a Python program that:\n",
        "●​ Creates a synthetic imbalanced dataset with make_classification() from\n",
        "sklearn.datasets.\n",
        "●​ Prints the class distribution.(Include your Python code and output in the code box below.)\n"
      ],
      "metadata": {
        "id": "GVReyqUYOM9u"
      }
    },
    {
      "cell_type": "code",
      "source": [
        "from sklearn.datasets import make_classification\n",
        "from collections import Counter\n",
        "\n",
        "X, y = make_classification(n_samples=1000,\n",
        "                           n_features=10,\n",
        "                           n_informative=5,\n",
        "                           n_redundant=0,\n",
        "                           n_repeated=0,\n",
        "                           n_classes=2,\n",
        "                           n_clusters_per_class=1,\n",
        "                           weights=[0.9, 0.1],\n",
        "                           flip_y=0,\n",
        "                           random_state=42)\n",
        "\n",
        "class_distribution = Counter(y)\n",
        "print(\"Class Distribution:\")\n",
        "for class_label, count in class_distribution.items():\n",
        "    print(f\"Class {class_label}: {count} samples\")\n"
      ],
      "metadata": {
        "colab": {
          "base_uri": "https://localhost:8080/"
        },
        "id": "E0Pph3CVkJOP",
        "outputId": "32396c26-b2ae-49ba-b6a4-ceb480994ffe"
      },
      "execution_count": 1,
      "outputs": [
        {
          "output_type": "stream",
          "name": "stdout",
          "text": [
            "Class Distribution:\n",
            "Class 0: 900 samples\n",
            "Class 1: 100 samples\n"
          ]
        }
      ]
    },
    {
      "cell_type": "code",
      "source": [
        "# Question 7: Implement one-hot encoding using pandas for the following list of colors:\n",
        "# ['Red', 'Green', 'Blue', 'Green', 'Red']. Print the resulting dataframe.​\n",
        "# (Include your Python code and output in the code box below.)\n",
        "import pandas as pd\n",
        "\n",
        "colors = ['Red', 'Green', 'Blue', 'Green', 'Red']\n",
        "\n",
        "color_series = pd.Series(colors)\n",
        "\n",
        "one_hot_encoded_colors = pd.get_dummies(color_series)\n",
        "\n",
        "print(one_hot_encoded_colors)"
      ],
      "metadata": {
        "colab": {
          "base_uri": "https://localhost:8080/"
        },
        "id": "wggvxvy7OW2F",
        "outputId": "93f265d6-dc0a-4189-9579-17d407b8796a"
      },
      "execution_count": 2,
      "outputs": [
        {
          "output_type": "stream",
          "name": "stdout",
          "text": [
            "    Blue  Green    Red\n",
            "0  False  False   True\n",
            "1  False   True  False\n",
            "2   True  False  False\n",
            "3  False   True  False\n",
            "4  False  False   True\n"
          ]
        }
      ]
    },
    {
      "cell_type": "code",
      "source": [
        "# Question 8: Write a Python script to:\n",
        "# ●​ Generate 1000 samples from a normal distribution.\n",
        "# ●​ Introduce 50 random missing values.\n",
        "# ●​ Fill missing values with the column mean.\n",
        "# ●​ Plot a histogram before and after imputation.\n",
        "# (Include your Python code and output in the code box below.)\n",
        "\n",
        "import numpy as np\n",
        "import matplotlib.pyplot as plt\n",
        "np.random.seed(42)\n",
        "data = np.random.normal(loc=10, scale=2, size=1000)\n",
        "\n",
        "data_with_nan = data.copy()\n",
        "nan_indices = np.random.choice(range(len(data_with_nan)), 50, replace=False)\n",
        "data_with_nan[nan_indices] = np.nan\n",
        "data_with_nan = data.copy()\n",
        "nan_indices = np.random.choice(range(len(data_with_nan)), 50, replace=False)\n",
        "data_with_nan[nan_indices] = np.nan\n",
        "\n",
        "# 3. Fill missing values with the column mean\n",
        "# Calculate the mean of the non-missing values\n",
        "mean_value = np.nanmean(data_with_nan)\n",
        "# Create a copy to store the imputed data\n",
        "imputed_data = data_with_nan.copy()\n",
        "# Replace NaN values with the mean\n",
        "imputed_data[np.isnan(imputed_data)] = mean_value\n",
        "\n",
        "# 4. Plot a histogram before and after imputation\n",
        "plt.figure(figsize=(12, 6))\n",
        "\n",
        "# Histogram before imputation\n",
        "plt.subplot(1, 2, 1)\n",
        "plt.hist(data_with_nan, bins=30, edgecolor='black', alpha=0.7)\n",
        "plt.title('Histogram Before Imputation (with NaNs)')\n",
        "plt.xlabel('Value')\n",
        "plt.ylabel('Frequency')\n",
        "\n",
        "# Histogram after imputation\n",
        "plt.subplot(1, 2, 2)\n",
        "plt.hist(imputed_data, bins=30, edgecolor='black', alpha=0.7, color='green')\n",
        "plt.title('Histogram After Mean Imputation')\n",
        "plt.xlabel('Value')\n",
        "plt.ylabel('Frequency')\n",
        "\n",
        "plt.tight_layout()\n",
        "plt.show()"
      ],
      "metadata": {
        "colab": {
          "base_uri": "https://localhost:8080/",
          "height": 580
        },
        "id": "o9qXN_0plP4k",
        "outputId": "036a3f8d-63d7-4ee4-9d72-50364adf407c"
      },
      "execution_count": 3,
      "outputs": [
        {
          "output_type": "display_data",
          "data": {
            "text/plain": [
              "<Figure size 1200x600 with 2 Axes>"
            ],
            "image/png": "[encoded data removed]"
          },
          "metadata": {}
        }
      ]
    },
    {
      "cell_type": "code",
      "source": [
        "# Question 9: Implement Min-Max scaling on the following list of numbers [2, 5, 10, 15,\n",
        "# 20] using sklearn.preprocessing.MinMaxScaler. Print the scaled array.\n",
        "# (Include your Python code and output in the code box below.)\n",
        "import numpy as np\n",
        "from sklearn.preprocessing import MinMaxScaler\n",
        "\n",
        "data = np.array([2, 5, 10, 15, 20]).reshape(-1, 1)\n",
        "scaler = MinMaxScaler()\n",
        "scaled_data = scaler.fit_transform(data)\n",
        "print(\"Original Data:\\n\", data.flatten())\n",
        "print(\"Scaled Data:\\n\", scaled_data.flatten())"
      ],
      "metadata": {
        "colab": {
          "base_uri": "https://localhost:8080/"
        },
        "id": "ikE3ghYaOgS5",
        "outputId": "e7f69cc6-37eb-47a6-83cc-bc03ab69c731"
      },
      "execution_count": 4,
      "outputs": [
        {
          "output_type": "stream",
          "name": "stdout",
          "text": [
            "Original Data:\n",
            " [ 2  5 10 15 20]\n",
            "Scaled Data:\n",
            " [0.         0.16666667 0.44444444 0.72222222 1.        ]\n"
          ]
        }
      ]
    },
    {
      "cell_type": "code",
      "source": [
        "# Question 10: You are working as a data scientist for a retail company. You receive a customer\n",
        "# transaction dataset that contains:\n",
        "# ●​ Missing ages,\n",
        "# ● ​Outliers in transaction amount,\n",
        "# ● ​A highly imbalanced target (fraud vs. non-fraud),\n",
        "# ● ​Categorical variables like payment method.\n",
        "# Explain the step-by-step data preparation plan you’d follow before training a machine learning\n",
        "# model. Include how you’d address missing data, outliers, imbalance, and encoding.\n",
        "# (Include your Python code and output in the code box below.)\n",
        "\n"
      ],
      "metadata": {
        "id": "FetrXqADOhJu"
      },
      "execution_count": null,
      "outputs": []
    }
  ]
}