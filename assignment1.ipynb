{
  "nbformat": 4,
  "nbformat_minor": 0,
  "metadata": {
    "colab": {
      "provenance": []
    },
    "kernelspec": {
      "name": "python3",
      "display_name": "Python 3"
    },
    "language_info": {
      "name": "python"
    }
  },
  "cells": [
    {
      "cell_type": "markdown",
      "source": [],
      "metadata": {
        "id": "jwFCm2gcwsyi"
      }
    },
    {
      "cell_type": "markdown",
      "source": [
        "1. What is Python, and why is it popular"
      ],
      "metadata": {
        "id": "RMehQ8aTw2O5"
      }
    },
    {
      "cell_type": "markdown",
      "source": [
        "Python is High level,interpreter,dynamic,object oriented,general purpose programming language.\n",
        "\n",
        "\n",
        "*   High Level -  Human understanding\n",
        "*   Interpreter - Does not having complier like c++.It is having compile one line at a time and interpret.\n",
        "                  \n",
        "*   Dynamic - Does not required define data type before assign any variable.\n",
        "*   Object oriented - It is consider anything as object either list,class attribute,string.\n",
        "                      \n",
        "*   General Purpose - It is use for any work like automation,data science, mathematical operations,web development,etc.\n",
        "                      \n",
        "\n",
        "Why python popular - Python having simple and straight forword.It's syntax very\n",
        "                     simple like if else.\n",
        "                     Python having large no of built is libraries,like time,re,\n",
        "                     external also like numpy,pandas,scipy,etc.\n",
        "                     Python  is also open source  language.\n",
        "                     python support other languages like c cpython,java - jpython etc.\n",
        "\n",
        "\n",
        "\n",
        "\n",
        "\n",
        "\n",
        "\n"
      ],
      "metadata": {
        "id": "X0zB2ZJcw8Ws"
      }
    },
    {
      "cell_type": "markdown",
      "source": [
        "2. What is an interpreter in Python"
      ],
      "metadata": {
        "id": "53Fjt-470PNM"
      }
    },
    {
      "cell_type": "markdown",
      "source": [
        "Interpreter - It is small unit who having in built in while tool install.It's works is convert human language into byte code (0101101010).\n",
        "Interpreter in python is interprete line one by one.not like c++ compile all program first and then interpreate all code.so it advantage is we  can find out instanly where we write wrong line of code or instruction."
      ],
      "metadata": {
        "id": "vMP0xysQ0SQR"
      }
    },
    {
      "cell_type": "markdown",
      "source": [
        "3.What are pre-defined keywords in Python"
      ],
      "metadata": {
        "id": "ojHN0n4l1yF0"
      }
    },
    {
      "cell_type": "markdown",
      "source": [
        "Pre-defined keywords in python are use for specific works and there are 33 keywords like if,else,def, class,break,continue etc.It having special meaning and work also reserved."
      ],
      "metadata": {
        "id": "rmGTIlWB1206"
      }
    },
    {
      "cell_type": "markdown",
      "source": [
        "4.Can keywords be used as variable names"
      ],
      "metadata": {
        "id": "6l69wQ3G13zb"
      }
    },
    {
      "cell_type": "markdown",
      "source": [
        "Keywords are having special meaning and interpreter does not support for keyword as variable."
      ],
      "metadata": {
        "id": "cXT6t_XC2KLF"
      }
    },
    {
      "cell_type": "markdown",
      "source": [
        "5.What is mutability in Python"
      ],
      "metadata": {
        "id": "xQS3vprf18LX"
      }
    },
    {
      "cell_type": "markdown",
      "source": [
        "Mutability - It is allow changes any update with data type in some memory location.\n",
        "there are some data type list,dictionary,set it is support any add new element in existing memory location."
      ],
      "metadata": {
        "id": "yXafEI8d4P0t"
      }
    },
    {
      "cell_type": "markdown",
      "source": [
        "6. **Why** are lists mutable, but tuples are immutable"
      ],
      "metadata": {
        "id": "O_qrNMew4Z0P"
      }
    },
    {
      "cell_type": "markdown",
      "source": [
        "In python List having built in functions like append,extend,insert,etc thats why we can add some data after create data in memory location.but tuple does not having functions.so we can't do any update in same location."
      ],
      "metadata": {
        "id": "SizSjqvV4g3T"
      }
    },
    {
      "cell_type": "markdown",
      "source": [
        "7. What is the difference between “==” and “is” operators in Python"
      ],
      "metadata": {
        "id": "Wd-CgrSd5SdV"
      }
    },
    {
      "cell_type": "markdown",
      "source": [
        "'==' is comparision operator and it is check data value in python.\n",
        "'is' It is identity operator and  use for check memory location whether both data values are store at same location\n",
        "ex. name = \"akash\"\n",
        "    name2 = \"akash\"\n",
        "    print(name == name2) # true because same data type is str\n",
        "ex.nums = [23,11,19,21]\n",
        "   nums2 = [23,11,19,21]\n",
        "   print(nums is nums2) # false because both are not same location"
      ],
      "metadata": {
        "id": "OCwQanXL5XS1"
      }
    },
    {
      "cell_type": "markdown",
      "source": [
        "8.What are logical operators in Python"
      ],
      "metadata": {
        "id": "zU2s6huG7D_T"
      }
    },
    {
      "cell_type": "markdown",
      "source": [
        "logical operators in python is check condition using and,or and not operators"
      ],
      "metadata": {
        "id": "VWNc1kEs7Jlp"
      }
    },
    {
      "cell_type": "markdown",
      "source": [
        "9. What is type casting in Python"
      ],
      "metadata": {
        "id": "umihzEBE7wgB"
      }
    },
    {
      "cell_type": "markdown",
      "source": [
        "type casting is use for convert one data type into another data type.\n",
        "ex. nums = \"55\"\n",
        "    nums_int = int(nums) # it is convert into int\n",
        "    name = \"akash\"\n",
        "    name_list = list(name) # it is convert into list"
      ],
      "metadata": {
        "id": "-mpUWdtl76Xk"
      }
    },
    {
      "cell_type": "markdown",
      "source": [
        "10.What is the difference between implicit and explicit type casting\n",
        "\n",
        "*   implicit type casting - When we do some perform like two numbers addition and after perform it convert in float that example is implicit type casting.\n",
        "*   explicit type casting - When we do convert directly in some data type\n",
        "ex. nums = \"55\"\n",
        "print(int(nums))\n",
        "\n"
      ],
      "metadata": {
        "id": "Nx2HxkC58ef-"
      }
    },
    {
      "cell_type": "markdown",
      "source": [
        "11. What is the purpose of conditional statements in Python\n",
        "\n",
        "conditional statement is small piece of code it run when condition is true or false\n",
        "ex.  "
      ],
      "metadata": {
        "id": "tCQvkK339_s6"
      }
    },
    {
      "cell_type": "code",
      "source": [
        "nums = 20\n",
        "if nums > 10:\n",
        "   print(\"it is greater than 10\")\n",
        "else:\n",
        "    print(\"It is less than 10\")"
      ],
      "metadata": {
        "colab": {
          "base_uri": "https://localhost:8080/"
        },
        "id": "auXUVwDxBYhp",
        "outputId": "66254e33-b350-4266-9296-c0b61b100c0b"
      },
      "execution_count": 5,
      "outputs": [
        {
          "output_type": "stream",
          "name": "stdout",
          "text": [
            "it is greater than 10\n"
          ]
        }
      ]
    },
    {
      "cell_type": "markdown",
      "source": [
        "12. How does the elif statement work\n",
        "\n",
        "It is use for relavent to if statement. Suppose if condition does not satisfied then elif condition check."
      ],
      "metadata": {
        "id": "g8urJ9yN-zni"
      }
    },
    {
      "cell_type": "code",
      "source": [
        "nums = 22\n",
        "if nums < 15:\n",
        "  print('It is less than 15')\n",
        "elif nums % 2 ==0:\n",
        "  print(\"It is even \")\n"
      ],
      "metadata": {
        "colab": {
          "base_uri": "https://localhost:8080/"
        },
        "id": "ejfALx9j_sBl",
        "outputId": "beaf0fbb-5e86-44bb-df24-3e1c4364ed27"
      },
      "execution_count": 4,
      "outputs": [
        {
          "output_type": "stream",
          "name": "stdout",
          "text": [
            "It is even \n"
          ]
        }
      ]
    },
    {
      "cell_type": "markdown",
      "source": [
        "13.What is the difference between for and while loops\n",
        "\n",
        "for and while loops are use conditional statement. but for loop is work for ite rator and while is use for if condition is true.\n"
      ],
      "metadata": {
        "id": "irxiyCTnAMaI"
      }
    },
    {
      "cell_type": "code",
      "source": [
        "lst= ['apple','orange','mango','graphs']\n",
        "for itm in lst:\n",
        "  print(itm)\n",
        "n = len(lst)\n",
        "while n > 0:\n",
        "  print(lst[n-1])\n",
        "  n-=1"
      ],
      "metadata": {
        "colab": {
          "base_uri": "https://localhost:8080/"
        },
        "id": "Kk0P_n7jCtv6",
        "outputId": "e78afbb5-243b-4e2a-910b-0555c30a20c9"
      },
      "execution_count": 3,
      "outputs": [
        {
          "output_type": "stream",
          "name": "stdout",
          "text": [
            "apple\n",
            "orange\n",
            "mango\n",
            "graphs\n",
            "graphs\n",
            "mango\n",
            "orange\n",
            "apple\n"
          ]
        }
      ]
    },
    {
      "cell_type": "markdown",
      "source": [
        "14.  Describe a scenario where a while loop is more suitable than a for loop"
      ],
      "metadata": {
        "id": "rpUOg2qdDafh"
      }
    },
    {
      "cell_type": "code",
      "source": [
        "# here gives example we want print index with character\n",
        "names = \"akash\"\n",
        "# for i in names:\n",
        "#     print(i)\n",
        "\n",
        "# l = len(names)\n",
        "# n = 0\n",
        "# while n < l:\n",
        "#     print(n,'-',names[n])\n",
        "#     n+=1\n",
        "\n",
        "user_input = int(input('enter a no:'))\n",
        "user_input1 = int(input('enter a no:'))\n",
        "times = int(input('enter a no for quit programm:'))\n",
        "while times > 0:\n",
        "  a = user_input + user_input1\n",
        "  print(a)\n",
        "  times-=1\n"
      ],
      "metadata": {
        "colab": {
          "base_uri": "https://localhost:8080/"
        },
        "id": "sWQiYSMKEFgp",
        "outputId": "1913f108-5dd0-4a96-e6a4-612539ecfb62"
      },
      "execution_count": 14,
      "outputs": [
        {
          "output_type": "stream",
          "name": "stdout",
          "text": [
            "enter a no:12\n",
            "enter a no:12\n",
            "enter a no for quit programm:5\n",
            "24\n",
            "24\n",
            "24\n",
            "24\n",
            "24\n"
          ]
        }
      ]
    },
    {
      "cell_type": "markdown",
      "source": [
        "1.Write a Python program to print \"Hello, World!"
      ],
      "metadata": {
        "id": "iDwjdi9yHm9D"
      }
    }
  ]
}