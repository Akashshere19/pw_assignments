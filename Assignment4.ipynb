{
  "nbformat": 4,
  "nbformat_minor": 0,
  "metadata": {
    "colab": {
      "provenance": []
    },
    "kernelspec": {
      "name": "python3",
      "display_name": "Python 3"
    },
    "language_info": {
      "name": "python"
    }
  },
  "cells": [
    {
      "cell_type": "markdown",
      "source": [
        "1. What is Object-Oriented Programming (OOP)>\n",
        "\n",
        "\n",
        "\n",
        "\n",
        "*   It is a ways of programming to create structured or organise code of object rather than action .\n",
        "*   Object-oriented programming is concept to related create object using this method.In OOP everything is around object,we create object using class framework.\n",
        "*  Inside class we create attributes(variables),methods(functions) and instance of object.\n",
        "\n",
        "Advantage:\n",
        "\n",
        "\n",
        "1.   Structured code\n",
        "2.   Reduce complexity and reusable\n",
        "3.   4 concepts are use for reuse code. like polymorphism,encapsulation,abstraction,inheritance.\n",
        "\n",
        "\n",
        "\n"
      ],
      "metadata": {
        "id": "MZ1kOmZ8PMaN"
      }
    },
    {
      "cell_type": "code",
      "source": [
        "class Car:\n",
        "  def __init__(self,name,model):\n",
        "    self.name = name\n",
        "    self.model = model\n",
        "  def display_car_details(self):\n",
        "    return f'car name : {self.name} model: {self.model}'\n",
        "c = Car('Tata','exe')\n",
        "print(c.display_car_details())"
      ],
      "metadata": {
        "colab": {
          "base_uri": "https://localhost:8080/"
        },
        "id": "KEhm63ANRIYS",
        "outputId": "5dfb39d3-b14e-4a8a-8317-2b30c4cb30d3"
      },
      "execution_count": null,
      "outputs": [
        {
          "output_type": "stream",
          "name": "stdout",
          "text": [
            "car name : Tata model: exe\n"
          ]
        }
      ]
    },
    {
      "cell_type": "markdown",
      "source": [
        "2. What is a class in OOP\n",
        "\n",
        "class is keyword which is use for creating object using define object name.\n",
        "class is also known as framework which is oraganise attributes,methods.\n"
      ],
      "metadata": {
        "id": "1Pe8pq9IRmgv"
      }
    },
    {
      "cell_type": "code",
      "source": [
        "class Student: # class keyword and student object name\n",
        "  def __init__(self,name): # self is return current instance data\n",
        "     self.n = name # create instansiation attribute\n",
        "  def displayName(self):\n",
        "    return self.name\n",
        "st = Student('Akash') # call object student"
      ],
      "metadata": {
        "id": "83f4HLhLcXz2"
      },
      "execution_count": null,
      "outputs": []
    },
    {
      "cell_type": "markdown",
      "source": [
        "3.What is an object in OOP?\n",
        "\n",
        "\n",
        "*  object is a fundamental building block. It's an instance of a class,    representing a specific entity with its own state  and behavior.\n",
        "*   Object is real entity like Car,Building,Company etc.\n",
        "we are creating object through OOP concept.\n",
        "*   Each object has a unique identity, even if it shares the same class definition.\n",
        "\n",
        "\n",
        "\n",
        "\n",
        "\n"
      ],
      "metadata": {
        "id": "CQHga9jHV5xL"
      }
    },
    {
      "cell_type": "code",
      "source": [
        "class Song:  # Song is real object\n",
        "  def __init__(self,name):\n",
        "    self.song = name\n",
        "sng = Song('Mere sathi re sathi.... o sathi re..!')\n",
        "print(sng.song)    # call that object"
      ],
      "metadata": {
        "colab": {
          "base_uri": "https://localhost:8080/"
        },
        "id": "sRh_WlhXi1cF",
        "outputId": "efb47187-81a1-4a48-fad1-ce28a03a18c9"
      },
      "execution_count": null,
      "outputs": [
        {
          "output_type": "stream",
          "name": "stdout",
          "text": [
            "Mere sathi re sathi.... o sathi re..!\n"
          ]
        }
      ]
    },
    {
      "cell_type": "markdown",
      "source": [
        "4.What is the difference between abstraction and encapsulation?\n",
        "\n",
        "abstraction -\n",
        "\n",
        "*   It is concept which is use for hiding data functinality\n",
        "*   Abstraction focuses on hiding implementation details and exposing only essential features.Abstraction simplifies complexity by showing only what's necessary\n",
        "ex. Mobile - we can use but can see internal proccess.\n",
        "\n",
        "\n",
        "\n",
        "\n",
        "\n",
        "\n",
        "\n",
        "encapsulation -\n",
        "\n",
        "*   Objects encapsulate (bundle together) data and methods, hiding internal details and exposing only necessary functionality through interfaces.\n",
        "\n",
        "*  It is concept of OOP which aim is hide data.providing security to data,It means does not allow to directly access outside class or inside class using private and protect variable.but we can access variable using method in outside class.\n",
        "\n",
        "ex. Bank - one building can bundle different departments.but we can not access directly.use our account passbook and see what we need service.\n",
        "\n",
        "\n"
      ],
      "metadata": {
        "id": "FMxJUblRV9A8"
      }
    },
    {
      "cell_type": "code",
      "source": [
        "# example of abstraction\n",
        "\n",
        "class Car:\n",
        "    def start_engine(self):\n",
        "        # Implementation details hidden\n",
        "        print(\"Engine started\")\n",
        "\n",
        "    def accelerate(self):\n",
        "        # Implementation details hidden\n",
        "        print(\"Accelerating\")\n",
        "\n",
        "    def brake(self):\n",
        "        # Implementation details hidden\n",
        "        print(\"Braking\")\n",
        "\n",
        "\n",
        "# example of encapsulation\n",
        "class Bank:\n",
        "    def __init__(self,accNo,balance):\n",
        "        self.__accNo = accNo # private attribute\n",
        "        self._bal  = balance # protected attribute\n",
        "    def details(self):\n",
        "      return f'account no: {self.__accNo} balance : {self._bal}'\n",
        "\n",
        "bk = Bank('acc0001',10000)\n",
        "# print(bk.__accNo) # does not allow to directly access\n",
        "print(bk.details())\n",
        "\n",
        "\n"
      ],
      "metadata": {
        "colab": {
          "base_uri": "https://localhost:8080/"
        },
        "id": "8BffnnDemOxL",
        "outputId": "7bffcd64-dd56-4e5e-bf70-d3b7a37c43f8"
      },
      "execution_count": null,
      "outputs": [
        {
          "output_type": "stream",
          "name": "stdout",
          "text": [
            "account no: acc0001 balance : 10000\n"
          ]
        }
      ]
    },
    {
      "cell_type": "markdown",
      "source": [
        "5.What are dunder methods in Python?\n",
        "\n",
        "\n",
        "*   Dunder methods are special methods or magic methods that are pre defined methods in python and. It can gives or return data.\n",
        "*   Predefined methods in Python that are distinguished by having double underscores (double under, or \"dunder\") at both the beginning and end of their names (e.g., __init__, __str__, __add__).\n",
        "\n",
        "*   These methods allow for the customization of how objects of a class behave when interacting with built-in Python operations and functions.\n",
        "*  Dunder methods enable operator overloading, allowing custom classes to define how standard operators (like +, -, ==, <, etc.)\n",
        "\n",
        "we can check built in dunder methods using\n",
        "\n",
        "print(dir(int))\n",
        "\n",
        "\n",
        "\n"
      ],
      "metadata": {
        "id": "-Sb-W-M8WAIg"
      }
    },
    {
      "cell_type": "code",
      "source": [
        "class String:\n",
        "\n",
        "    # magic method to initiate object\n",
        "    def __init__(self, string):\n",
        "        self.string = string\n",
        "\n",
        "    def __str__(self):\n",
        "      return self.string\n",
        "    def __repr__(self):\n",
        "      return self.string\n",
        "\n",
        "\n",
        "obj =  String('Akash')\n",
        "print(obj.__str__())\n",
        "print(obj.__repr__())"
      ],
      "metadata": {
        "colab": {
          "base_uri": "https://localhost:8080/"
        },
        "id": "8OOHzHxgeRT7",
        "outputId": "a2d682d9-0548-4331-da81-b1664ed35af7"
      },
      "execution_count": null,
      "outputs": [
        {
          "output_type": "stream",
          "name": "stdout",
          "text": [
            "Akash\n",
            "Akash\n"
          ]
        }
      ]
    },
    {
      "cell_type": "markdown",
      "source": [
        "6. Explain the concept of inheritance in OOP?\n",
        "\n",
        "\n",
        "\n",
        "*   Inheritance is main concept of OOP.It allow copying method and attributes from parent class to its child class.\n",
        "*   Inheritance is a mechanism that allows a new class, called a derived class, to inherit attributes and functions from an existing class, called a base class.\n",
        "*   This enables the derived class to reuse code from the base class, increasing development efficiency and code reusability.\n",
        "*   Inheritance also allows the derived class to expand or customize the functionality of the base class without changing the original code.\n",
        "## Types of Inheritance -\n",
        "\n",
        "1.   single inheritance\n",
        "2.   multilevel inheritance\n",
        "3.   multiple inheritance\n",
        "4.   herachical inheritance\n",
        "5.   hybrid inheritance\n",
        "\n",
        "\n",
        "\n",
        "\n",
        "\n",
        "\n",
        "\n",
        "\n",
        "\n",
        "\n",
        "\n"
      ],
      "metadata": {
        "id": "oppAaEwXp7uw"
      }
    },
    {
      "cell_type": "code",
      "source": [
        "# Example of single inheritance\n",
        "class Employee:\n",
        "    def __init__(self,name):\n",
        "        self.name = name\n",
        "    def display(self):\n",
        "      return self.name\n",
        "\n",
        "class Project(Employee):\n",
        "     def __init__(self, name,project_name):\n",
        "        super().__init__(name)\n",
        "        self.project = project_name\n",
        "     def displayDetails(self):\n",
        "        return f'Employee name: {self.display()} Project name: {self.project}'\n",
        "\n",
        "emp1 = Project('Akash','Employee Attendance')\n",
        "# print(emp1.displayDetails())\n",
        "\n",
        "\n",
        "\n",
        "# Example of multilevel inheritance\n",
        "class Employee:\n",
        "    def __init__(self,name):\n",
        "        self.name = name\n",
        "    def display(self):\n",
        "      return self.name\n",
        "\n",
        "class Project(Employee):\n",
        "     def __init__(self, name,project_name):\n",
        "        super().__init__(name)\n",
        "        self.project = project_name\n",
        "     def displayDetails(self):\n",
        "        return f'Employee name: {self.display()} Project name: {self.project}'\n",
        "\n",
        "class City(Project):\n",
        "      city = 'Mumbai'\n",
        "      def details(self):\n",
        "        return f'{self.displayDetails()} and city: {self.city}'\n",
        "emp1 = City('Akash','Employee Attendance')\n",
        "# print(emp1.details())\n",
        "\n",
        "\n",
        "\n",
        "# Example of multiple inheritance\n",
        "class Employee:\n",
        "    def __init__(self,name):\n",
        "        self.name = name\n",
        "    def display(self):\n",
        "      return self.name\n",
        "\n",
        "class Project:\n",
        "     def __init__(self,name,project_name):\n",
        "        super().__init__(name)\n",
        "        self.project = project_name\n",
        "     def displayDetails(self):\n",
        "        return f'Project name: {self.project}'\n",
        "\n",
        "class City(Project,Employee):\n",
        "      city = 'Mumbai'\n",
        "      def details(self):\n",
        "        return f'employee name: {self.display()} project name: {self.displayDetails()} and city: {self.city}'\n",
        "emp1 = City('Akash','Employee Attendance')\n",
        "print(emp1.details())\n",
        "\n"
      ],
      "metadata": {
        "colab": {
          "base_uri": "https://localhost:8080/"
        },
        "id": "QgLp9Y7OuGUM",
        "outputId": "60e338a5-a7df-4dcd-c0ae-65ec78e923db"
      },
      "execution_count": null,
      "outputs": [
        {
          "output_type": "stream",
          "name": "stdout",
          "text": [
            "employee name: Akash project name: Project name: Employee Attendance and city: Mumbai\n"
          ]
        }
      ]
    },
    {
      "cell_type": "markdown",
      "source": [
        "7.What is polymorphism in OOP?\n",
        "\n",
        "Polymorphism - It is core concept in OOP that useful for create many functions in same class but diffrent purpose.\n",
        "in polymorphism types are\n",
        "\n",
        "\n",
        "1.   Run time polymorphism(metod overriding)\n",
        "2.   compile time polymorphism(method overloading)\n",
        "3.  operator overloding"
      ],
      "metadata": {
        "id": "OeTXtmnWwvFG"
      }
    },
    {
      "cell_type": "code",
      "source": [
        "# example of method overriding\n",
        "class Student:\n",
        "    def __init__(self,name):\n",
        "        self.name = name\n",
        "    def display(self):\n",
        "        return self.name\n",
        "class Employee(Student):\n",
        "      def __init__(self,empName):\n",
        "        self.emp = empName\n",
        "      def display(self):\n",
        "          return self.emp\n",
        "obj = Employee('Akash')\n",
        "print(obj.display())\n",
        "obj = Student('Akshay')\n",
        "print(obj.display())\n",
        "\n",
        "\n",
        "\n",
        "# example of operator overloading\n",
        "\n",
        "class String:\n",
        "\n",
        "    # magic method to initiate object\n",
        "    def __init__(self, string):\n",
        "        self.string = string\n",
        "\n",
        "    def __str__(self):\n",
        "      return self.string\n",
        "    def __repr__(self):\n",
        "      return self.string\n",
        "\n",
        "\n",
        "obj =  String('Akash')\n",
        "print(obj.__str__())\n"
      ],
      "metadata": {
        "colab": {
          "base_uri": "https://localhost:8080/"
        },
        "id": "iqIoBBSGyeAJ",
        "outputId": "b7795454-a511-4556-a6a2-4fefa9ea9c6a"
      },
      "execution_count": null,
      "outputs": [
        {
          "output_type": "stream",
          "name": "stdout",
          "text": [
            "Akash\n",
            "Akshay\n"
          ]
        }
      ]
    },
    {
      "cell_type": "markdown",
      "source": [
        "8.How is encapsulation achieved in Python?\n",
        "\n",
        "\n",
        "To achieve encapsulation, you typically:\n",
        "\n",
        "\n",
        "*   Declare data members as private: This restricts direct access to the data from outside the class also inheritance .\n",
        "*   Declare data members as protected: This restricts direct access to the data from outside.\n",
        "Implement data validation: Within the setter methods, you can validate data before assigning it to the object’s properties, ensuring data integrity."
      ],
      "metadata": {
        "id": "l3wS8Yy80ff1"
      }
    },
    {
      "cell_type": "code",
      "source": [
        "class Employee:\n",
        "    def __init__(self, name, id, salary, project):\n",
        "        # data members\n",
        "        self.name = name\n",
        "        self.id = id\n",
        "        self.__salary = salary\n",
        "        self.project = project\n",
        "\n",
        "    def show_sal(self):\n",
        "        # accessing private data member\n",
        "        print(\"Name: \", self.name, 'Salary:', self.__salary)\n",
        "\n",
        "\n",
        "    def proj(self):\n",
        "        print(self.name, 'is working on', self.project)\n",
        "\n",
        "# creating object of a class\n",
        "emp = Employee('James', 102, 100000, 'Python')\n",
        "\n",
        "emp.show_sal()\n",
        "emp.proj()"
      ],
      "metadata": {
        "colab": {
          "base_uri": "https://localhost:8080/"
        },
        "id": "ntszS0-D1OB3",
        "outputId": "993fbfc5-0d82-4de8-c313-10e71c1db392"
      },
      "execution_count": null,
      "outputs": [
        {
          "output_type": "stream",
          "name": "stdout",
          "text": [
            "Name:  James Salary: 100000\n",
            "James is working on Python\n"
          ]
        }
      ]
    },
    {
      "cell_type": "markdown",
      "source": [
        "9. What is a constructor in Python?\n",
        "\n",
        "In Python, a constructor is a special method used to initialize new objects of a class. It is automatically invoked when an object of the class is created.\n",
        "\n",
        "It is always named __init__. This is a \"magic method\" in Python, indicated by the double underscores before and after the name.\n",
        "\n",
        "Unlike regular methods that you explicitly call, the __init__ method is automatically called by Python when you create an object of a class"
      ],
      "metadata": {
        "id": "Nl2MFOn211cC"
      }
    },
    {
      "cell_type": "code",
      "source": [
        "class Student: # class keyword and student object name\n",
        "  def __init__(self,name): # self is return current instance data\n",
        "     self.n = name # create instansiation attribute\n",
        "  def displayName(self):\n",
        "    return self.name\n",
        "st = Student('Akash') # call object student"
      ],
      "metadata": {
        "id": "mBUBgFrL2NqF"
      },
      "execution_count": null,
      "outputs": []
    },
    {
      "cell_type": "markdown",
      "source": [
        "10. What are class and static methods in Python?\n",
        "\n",
        "Class methods - It  use a cls parameter pointing to the class itself. They can modify class-level state through cls, but they can’t modify individual instance state.\n",
        "\n",
        "Static methods - It  don’t take self or cls parameters. They can’t modify instance or class state directly, and you’ll mainly use them for organizational purposes and namespacing."
      ],
      "metadata": {
        "id": "sSreQLOB2Ocy"
      }
    },
    {
      "cell_type": "code",
      "source": [
        "class NameClass:\n",
        "    name  = 'Akash'\n",
        "    @classmethod\n",
        "    def class_method(cls):\n",
        "\n",
        "        return (\"class method called\", cls.name)\n",
        "\n",
        "    @staticmethod\n",
        "    def static_method():\n",
        "        return (\"Welcome this is static method called\",)\n",
        "\n",
        "name = NameClass()\n",
        "print(name.class_method())"
      ],
      "metadata": {
        "colab": {
          "base_uri": "https://localhost:8080/"
        },
        "id": "MLEpgTuD2ru2",
        "outputId": "52ec739f-07b7-4f5c-9f8a-99dadef2a41d"
      },
      "execution_count": null,
      "outputs": [
        {
          "output_type": "stream",
          "name": "stdout",
          "text": [
            "('class method called', 'Akash')\n"
          ]
        }
      ]
    },
    {
      "cell_type": "markdown",
      "source": [
        "11. What is method overloading in Python?\n",
        "\n",
        "Method overloading in Python refers to the concept where a single method name can be used to perform different actions based on the number or type of arguments passed to it. Unlike some other programming languages (like Java or C++), Python does not support traditional method overloading where multiple methods with the same name but different parameter lists can be defined within the same class."
      ],
      "metadata": {
        "id": "NJApvW4P3Jlm"
      }
    },
    {
      "cell_type": "code",
      "source": [
        "\n",
        "def addition(*args):\n",
        "  # print(len(args))\n",
        "  if len(args) == 3:\n",
        "       return args[0]  + args[1] + + args[2]\n",
        "  if len(args) == 2:\n",
        "     return args[0]  + args[1]\n",
        "print(addition(12,15,14))\n"
      ],
      "metadata": {
        "colab": {
          "base_uri": "https://localhost:8080/"
        },
        "id": "3kV9HZsd3daF",
        "outputId": "309837b1-7380-4656-880c-d795de7c4feb"
      },
      "execution_count": null,
      "outputs": [
        {
          "output_type": "stream",
          "name": "stdout",
          "text": [
            "41\n"
          ]
        }
      ]
    },
    {
      "cell_type": "markdown",
      "source": [
        "12. What is method overriding in OOP?\n",
        "\n",
        "Method overriding is allows a subclass or child class to provide a specific implementation of a method that is already provided by one of its super-classes or parent classes."
      ],
      "metadata": {
        "id": "5wPzHqc-6jwo"
      }
    },
    {
      "cell_type": "code",
      "source": [
        "# example of method overriding\n",
        "class Student:\n",
        "    def __init__(self,name):\n",
        "        self.name = name\n",
        "    def display(self):\n",
        "        return self.name\n",
        "class Employee(Student):\n",
        "      def __init__(self,empName):\n",
        "        self.emp = empName\n",
        "      def display(self):\n",
        "          return self.emp\n",
        "obj = Employee('Akash')\n",
        "print(obj.display())\n",
        "obj = Student('Akshay')\n",
        "print(obj.display())"
      ],
      "metadata": {
        "id": "HgrB47ui6qgN"
      },
      "execution_count": null,
      "outputs": []
    },
    {
      "cell_type": "markdown",
      "source": [
        "13. What is a property decorator in Python?\n",
        "\n",
        "A property allows encapsulation by defining custom logic for getting, setting and deleting values.\n",
        "It use getter and setter for accessing attributes at runtime."
      ],
      "metadata": {
        "id": "DK8yy3Y07hXe"
      }
    },
    {
      "cell_type": "code",
      "source": [
        "class StudentName:\n",
        "    def __init__(self,name):\n",
        "        self.name  = name\n",
        "\n",
        "    @property\n",
        "    def get_name(self):\n",
        "        return self.name\n",
        "\n",
        "    @get_name.setter\n",
        "    def get_name(self,newName):\n",
        "      self.name = newName\n",
        "\n",
        "obj = StudentName('akash')\n",
        "obj.name = 'akshay'\n",
        "print(obj.get_name)"
      ],
      "metadata": {
        "colab": {
          "base_uri": "https://localhost:8080/"
        },
        "id": "__Cbgba5-nFp",
        "outputId": "c99860a2-27ba-4ff5-a0b8-31bec3069d5f"
      },
      "execution_count": null,
      "outputs": [
        {
          "output_type": "stream",
          "name": "stdout",
          "text": [
            "akshay\n"
          ]
        }
      ]
    },
    {
      "cell_type": "markdown",
      "source": [
        "14. Why is polymorphism important in OOP?\n",
        "\n",
        "Polymorphism - It is core concept in OOP that useful for create many functions in same class but diffrent purpose.It is important because it allow to reusability,maintainability and flexibility code.\n",
        "\n",
        "# Some features\n",
        "\n",
        "\n",
        "1.   It allow create same function but behaviour different in inheritance class\n",
        "2.   It allow Operator overloading so we can customise built it dunder methods\n",
        "\n"
      ],
      "metadata": {
        "id": "eU5ZBRdjCNzi"
      }
    },
    {
      "cell_type": "code",
      "source": [
        "class Employee:\n",
        "    def __init__(self,name):\n",
        "        self.name = name\n",
        "    def display(self):\n",
        "        return self.name\n",
        "class Project(Employee):\n",
        "    def __init__(self,name):\n",
        "        self.name = name\n",
        "    def display(self):\n",
        "        return self.name\n",
        "# emp = Project('employee attendance') # So when emp.display() is called, Project's version of display() is executed, not Employee's.\n",
        "emp = Employee('Akash')\n",
        "print(emp.display())\n"
      ],
      "metadata": {
        "colab": {
          "base_uri": "https://localhost:8080/"
        },
        "id": "hsAwhftLOgmC",
        "outputId": "638413c3-eb54-4e80-ca08-406ef174681a"
      },
      "execution_count": null,
      "outputs": [
        {
          "output_type": "stream",
          "name": "stdout",
          "text": [
            "Akash\n"
          ]
        }
      ]
    },
    {
      "cell_type": "markdown",
      "source": [
        "15.What is an abstract class in Python?\n",
        "\n",
        " abstract class in Python is a class that cannot be instantiated directly and is designed to be a base class for other classes. It may contain abstract methods — methods that have no implementation in the base class and must be implemented by subclasse\n",
        "  \n",
        "\n",
        "*   To define a common interface for all subclasses.\n",
        "*   To enforce implementation of certain methods in child classes.\n",
        "*   To prevent the creation of incomplete objects.\n",
        "\n",
        "\n",
        "\n",
        "\n",
        "\n",
        "  \n",
        "\n"
      ],
      "metadata": {
        "id": "oTHamLblCPxR"
      }
    },
    {
      "cell_type": "code",
      "source": [
        "from abc import ABC, abstractmethod\n",
        "\n",
        "class Shape(ABC):  # Abstract class\n",
        "\n",
        "    @abstractmethod\n",
        "    def area(self):  # Abstract method\n",
        "        pass\n",
        "\n",
        "class Circle(Shape):\n",
        "    def __init__(self, radius):\n",
        "        self.radius = radius\n",
        "\n",
        "    def area(self):\n",
        "        return 3.14 * self.radius * self.radius"
      ],
      "metadata": {
        "id": "K3hxS-PfQTdw"
      },
      "execution_count": null,
      "outputs": []
    },
    {
      "cell_type": "markdown",
      "source": [
        "16.What are the advantages of OOP?\n",
        "\n",
        "We already discuss OOPs and its types and features.Using OOPs we can create usability and structured code.\n",
        "\n",
        "some advantages are below:\n",
        "\n",
        "*   It is provide structured code using class blueprint,methods\n",
        "*   It having types that are Inheritance,Polymorphism,Encapsulation,Abstarction.\n",
        "*   Using inheritance we can create reuse code and organise code.\n",
        "*   Using Encapsulation provide security and organise.\n",
        "\n",
        "\n",
        "\n",
        "\n"
      ],
      "metadata": {
        "id": "SEaNKrPMCYD2"
      }
    },
    {
      "cell_type": "code",
      "source": [
        "# example of method overriding\n",
        "class Student:\n",
        "    def __init__(self,name):\n",
        "        self.name = name\n",
        "    def display(self):\n",
        "        return self.name\n",
        "class Employee(Student):\n",
        "      def __init__(self,empName):\n",
        "        self.emp = empName\n",
        "      def display(self):\n",
        "          return self.emp\n",
        "obj = Employee('Akash')\n",
        "print(obj.display())\n",
        "obj = Student('Akshay')\n",
        "print(obj.display())"
      ],
      "metadata": {
        "id": "eK4QL9sAR36V"
      },
      "execution_count": null,
      "outputs": []
    },
    {
      "cell_type": "markdown",
      "source": [
        "17.What is the difference between a class variable and an instance variable?\n",
        "\n",
        "Instance class is create using dunder method __init__.and when we create instance variable using self key.\n",
        "class variable is allow access only within class and it provide cls and class method suppose want to update variables\n",
        "\n",
        "\n",
        "\n",
        "\n",
        "1.   instance variable -\n",
        "*   Inside the __init__ method using self\n",
        "*   Each object (instance)\n",
        "*   Unique for each object\n",
        "*   self.variable_name\n",
        "\n",
        "\n",
        "\n",
        "\n",
        "2.   class variable -\n",
        "\n",
        "*  Outside any method, directly inside the class\n",
        "*   The class itself and is shared by all instances\n",
        "*   Shared among all instances and Usually through @classmethod using cls\n",
        "\n",
        "\n",
        "\n",
        "\n",
        "\n"
      ],
      "metadata": {
        "id": "tzUup9guCgDa"
      }
    },
    {
      "cell_type": "code",
      "source": [
        "class Employee:\n",
        "    company_name = \"TechCorp\"  # Class variable\n",
        "\n",
        "    def __init__(self, name):\n",
        "        self.name = name       # Instance variable\n",
        "\n",
        "    @classmethod\n",
        "    def change_company(cls, new_name):\n",
        "        cls.company_name = new_name"
      ],
      "metadata": {
        "id": "LaCozB0QTsD_"
      },
      "execution_count": null,
      "outputs": []
    },
    {
      "cell_type": "markdown",
      "source": [
        "18.What is multiple inheritance in Python?\n",
        "\n",
        "Multiple inheritance is a feature in Python where a class can inherit from more than one parent class. This allows the child class to access attributes and methods of all parent classes.\n",
        "\n",
        "Multiple inheritance allows a class to inherit from multiple parent classes, giving it access to all their features. Python resolves any method conflicts using a rule called Method Resolution Order (MRO)\n",
        "\n",
        "In inheritance use  Method Resolution Order (MRO)\t- Python follows left-to-right order using C3 linearization to resolve conflicts.\n"
      ],
      "metadata": {
        "id": "HmtvaUPKCj4N"
      }
    },
    {
      "cell_type": "markdown",
      "source": [
        "19.Explain the purpose of ‘’__str__’ and ‘__repr__’ ‘ methods in Python?\n",
        "\n",
        "\n",
        "both __str__ and __repr__ are special (dunder) methods used to define string representations of objects, but they serve different purposes."
      ],
      "metadata": {
        "id": "dx83p07qCnq2"
      }
    },
    {
      "cell_type": "code",
      "source": [
        "class Person:\n",
        "    def __init__(self, name):\n",
        "        self.name = name\n",
        "\n",
        "    def __str__(self):\n",
        "        return f\"My name is {self.name}\"\n",
        "\n",
        "    def __repr__(self):\n",
        "        return f\"Person('{self.name}')\"\n",
        "\n",
        "per = Person('akash')\n",
        "print(per)\n",
        "print(repr(per))"
      ],
      "metadata": {
        "id": "Hl_SV4DTVPxE"
      },
      "execution_count": null,
      "outputs": []
    },
    {
      "cell_type": "markdown",
      "source": [
        "20.What is the significance of the ‘super()’ function in Python?\n",
        "\n",
        "super() function in Python is used to call methods from a parent (super) class. It allows you to access and reuse the functionality of the parent class without explicitly naming it, which is especially useful in inheritance and multiple inheritance scenarios.\n",
        "\n",
        "It avoids hardcoding the parent class name.\n",
        "Supports method resolution order (MRO) in multiple inheritance.\n",
        "Promotes code reuse and cleaner inheritance."
      ],
      "metadata": {
        "id": "LjQp8drrCrRe"
      }
    },
    {
      "cell_type": "code",
      "source": [
        "# Example of multiple inheritance\n",
        "class Employee:\n",
        "    def __init__(self,name):\n",
        "        self.name = name\n",
        "    def display(self):\n",
        "      return self.name\n",
        "\n",
        "class Project:\n",
        "     def __init__(self,name,project_name):\n",
        "        super().__init__(name)\n",
        "        self.project = project_name\n",
        "     def displayDetails(self):\n",
        "        return f'Project name: {self.project}'\n",
        "\n",
        "class City(Project,Employee):\n",
        "      city = 'Mumbai'\n",
        "      def details(self):\n",
        "        return f'employee name: {self.display()} project name: {self.displayDetails()} and city: {self.city}'\n",
        "emp1 = City('Akash','Employee Attendance')\n",
        "print(emp1.details())"
      ],
      "metadata": {
        "id": "8MRMmPGAVqS6"
      },
      "execution_count": null,
      "outputs": []
    },
    {
      "cell_type": "markdown",
      "source": [
        "21.What is the significance of the __del__ method in Python?\n",
        "\n",
        "__del__ method in Python is a destructor — a special method that is automatically called when an object is about to be destroyed.\n",
        "\n",
        "It allows you to define cleanup actions, such as closing files, releasing network connections, or freeing other external resources."
      ],
      "metadata": {
        "id": "T8Zl3yy8C1xp"
      }
    },
    {
      "cell_type": "code",
      "source": [
        "class NameHandler:\n",
        "    def __init__(self, name):\n",
        "        self.name = name\n",
        "\n",
        "\n",
        "    def __del__(self):\n",
        "        return self.name\n",
        "\n",
        "obj = NameHandler('Prakash')\n",
        "\n",
        "print(obj.name)\n",
        "del obj  # delete name\n",
        "\n",
        "print(obj.name)"
      ],
      "metadata": {
        "colab": {
          "base_uri": "https://localhost:8080/"
        },
        "id": "C5Stn1rzWFJI",
        "outputId": "f6a4f2c8-5c8c-49d1-eaae-8a8e07c4b08e"
      },
      "execution_count": null,
      "outputs": [
        {
          "output_type": "stream",
          "name": "stdout",
          "text": [
            "Aksh\n"
          ]
        }
      ]
    },
    {
      "cell_type": "markdown",
      "source": [
        "22.What is the difference between @staticmethod and @classmethod in Python?\n",
        "\n",
        "@staticmethod and @classmethod are decorators used to define methods that are not instance methods, but they serve different purposes and behave differently.\n",
        "\n",
        "@classmethod -\n",
        "\n",
        "\n",
        "*   The class, takes cls as first argument\n",
        "*   Can access and modify class variables\n",
        "*   Method that depends on class, not instance\n",
        "*   First parameter is cls\n",
        "\n",
        "@staticmethod -\n",
        "\n",
        "*   The class, but does not take cls or self\n",
        "*   Cannot access class or instance variables\n",
        "*   Method is independent of class or instance\n",
        "*   No special first parameter\n",
        "\n",
        "\n",
        "\n",
        "\n",
        "\n",
        "\n",
        "\n",
        "\n"
      ],
      "metadata": {
        "id": "LD7lQmbCC5Km"
      }
    },
    {
      "cell_type": "code",
      "source": [
        "#Example of class method\n",
        "class Math:\n",
        "    @staticmethod\n",
        "    def add(x, y):\n",
        "        return x + y\n",
        "\n",
        "print(Math.add(3, 5))\n",
        "\n",
        "\n",
        "# static method\n",
        "class Person:\n",
        "    species = \"Human\"\n",
        "\n",
        "    @classmethod\n",
        "    def change_species(cls, new_species):\n",
        "        cls.species = new_species\n",
        "\n",
        "Person.change_species(\"Robot\")\n",
        "print(Person.species)"
      ],
      "metadata": {
        "id": "qGdnAnmkXe7X"
      },
      "execution_count": null,
      "outputs": []
    },
    {
      "cell_type": "markdown",
      "source": [
        "23.How does polymorphism work in Python with inheritance?\n",
        "\n",
        "\n",
        "polymorphism with inheritance means that a child class can override a method of the parent class, and the method that gets called depends on the object type at runtime — not the reference type.\n",
        "\n",
        "\n",
        "Polymorphism = \"many forms\"\n",
        "In OOP, polymorphism allows you to call the same method name on different objects and get different behavior depending on the object's class.\n",
        "\n"
      ],
      "metadata": {
        "id": "9szR9a7pC9An"
      }
    },
    {
      "cell_type": "code",
      "source": [
        "class Animal:\n",
        "    def speak(self):\n",
        "        return \"Animal sound\"\n",
        "\n",
        "class Dog(Animal):\n",
        "    def speak(self):\n",
        "        return \"Woof!\"\n",
        "\n",
        "class Cat(Animal):\n",
        "    def speak(self):\n",
        "        return \"Meow!\""
      ],
      "metadata": {
        "id": "WyDCZiOEX8Ed"
      },
      "execution_count": null,
      "outputs": []
    },
    {
      "cell_type": "markdown",
      "source": [
        "24.What is method chaining in Python OOP?\n",
        "\n",
        "Method chaining is a programming technique in object-oriented Python .we call multiple methods on the same object in a single line, one after another.\n",
        "Each method returns the object (self), allowing the next method to be called on it.\n"
      ],
      "metadata": {
        "id": "F6GpirmmDFqp"
      }
    },
    {
      "cell_type": "code",
      "source": [
        "class Person:\n",
        "    def __init__(self):\n",
        "        self.name = \"\"\n",
        "        self.age = 0\n",
        "\n",
        "    def set_name(self, name):\n",
        "        self.name = name\n",
        "        return self\n",
        "\n",
        "    def set_age(self, age):\n",
        "        self.age = age\n",
        "        return self\n",
        "\n",
        "    def display(self):\n",
        "        print(f\"Name: {self.name}, Age: {self.age}\")\n",
        "        return self\n",
        "per = Person()\n",
        "per.set_name('Rohit')\n",
        "per.set_age(29)\n",
        "per.display()\n",
        "\n"
      ],
      "metadata": {
        "colab": {
          "base_uri": "https://localhost:8080/"
        },
        "id": "aI9eeZ_GYb06",
        "outputId": "ec6cf724-ea0a-41cf-e8f7-40f3c5ed5de4"
      },
      "execution_count": null,
      "outputs": [
        {
          "output_type": "stream",
          "name": "stdout",
          "text": [
            "Name: Rohit, Age: 29\n"
          ]
        },
        {
          "output_type": "execute_result",
          "data": {
            "text/plain": [
              "<__main__.Person at 0x7edf44093310>"
            ]
          },
          "metadata": {},
          "execution_count": 19
        }
      ]
    },
    {
      "cell_type": "markdown",
      "source": [
        "25.What is the purpose of the __call__ method in Python?\n",
        "\n",
        "__call__ method in Python allows an instance of a class to be called like a function. When we implement __call__ in a class, we can use its objects with parentheses () as if they were regular functions.\n",
        "\n",
        "when we want an object to behave like a function but also maintain state or configuration.\n",
        "\n",
        "Enables function-like interfaces with object-oriented features.\n",
        "\n",
        "make objects callable\n"
      ],
      "metadata": {
        "id": "ysAi8S0nDJ1K"
      }
    },
    {
      "cell_type": "code",
      "source": [
        "class Person:\n",
        "    def __init__(self,name=''):\n",
        "        self.name = name\n",
        "    def __call__(self):\n",
        "      return self.name\n",
        "\n",
        "per = Person('akash')\n",
        "print(per.name)"
      ],
      "metadata": {
        "colab": {
          "base_uri": "https://localhost:8080/"
        },
        "id": "QvtxdWB3ZxRd",
        "outputId": "ea6b456b-20f5-48f9-9449-c10f77f77019"
      },
      "execution_count": null,
      "outputs": [
        {
          "output_type": "stream",
          "name": "stdout",
          "text": [
            "akash\n"
          ]
        }
      ]
    },
    {
      "cell_type": "markdown",
      "source": [
        "# ## **Practical Questions**\n"
      ],
      "metadata": {
        "id": "QwnRe_S_DMwF"
      }
    },
    {
      "cell_type": "code",
      "source": [
        "# 1. Create a parent class Animal with a method speak() that prints a generic message. Create a child class Dog\n",
        "# that overrides the speak() method to print \"Bark!\".\n",
        "\n",
        "class Animal:\n",
        "     def speak():\n",
        "        print('Hello I am from animal class')\n",
        "\n",
        "class Dog(Animal):\n",
        "    def speak():\n",
        "      print('Bark')\n",
        "\n",
        "animal = Animal\n",
        "animal.speak()\n",
        "dog = Dog\n",
        "dog.speak ()"
      ],
      "metadata": {
        "colab": {
          "base_uri": "https://localhost:8080/"
        },
        "id": "NRz22wFdaAdY",
        "outputId": "16ff06cd-55b4-466d-bc33-b0f9184c71e0"
      },
      "execution_count": null,
      "outputs": [
        {
          "output_type": "stream",
          "name": "stdout",
          "text": [
            "Hello I am from animal class\n",
            "Bark\n"
          ]
        }
      ]
    },
    {
      "cell_type": "code",
      "source": [
        "# 2. Write a program to create an abstract class Shape with a method area(). Derive classes Circle and Rectangle\n",
        "# from it and implement the area() method in both.\n",
        "\n",
        "\n",
        "from abc import ABC,abstractmethod\n",
        "class Shape(ABC):\n",
        "  @abstractmethod\n",
        "  def area(self):\n",
        "      pass\n",
        "class Circle(Shape):\n",
        "      def __init__(self,radius):\n",
        "          self.radius = radius\n",
        "      def area(self):\n",
        "          return f'Circle: {round(3.14 * self.radius * self.radius)}'\n",
        "class Rectangle(Shape):\n",
        "      def __init__(self,l,w):\n",
        "          self.length = l\n",
        "\n",
        "          self.width = w\n",
        "      def area(self):\n",
        "        return f'reactangular: {self.length  * self.width}'\n",
        "\n",
        "rectangular = Rectangle(5,3)\n",
        "print(rectangular.area())\n",
        "circle = Circle(12)\n",
        "print(circle.area())\n"
      ],
      "metadata": {
        "colab": {
          "base_uri": "https://localhost:8080/"
        },
        "id": "alsXli6_aQvg",
        "outputId": "28726c5d-b4ce-4b9e-a709-b907675044ee"
      },
      "execution_count": 26,
      "outputs": [
        {
          "output_type": "stream",
          "name": "stdout",
          "text": [
            "reactangular: 15\n",
            "Circle: 452\n"
          ]
        }
      ]
    },
    {
      "cell_type": "code",
      "source": [
        "# 3. Implement a multi-level inheritance scenario where a class Vehicle has an attribute type. Derive a class Car\n",
        "# and further derive a class ElectricCar that adds a battery attribute.\n",
        "\n",
        "class Vehical:\n",
        "    def __init__(self,com):\n",
        "          self.company = com\n",
        "\n",
        "    def display(self):\n",
        "        return self.company\n",
        "\n",
        "class Car(Vehical):\n",
        "    def __init__(self,com,model):\n",
        "        super().__init__(com)\n",
        "        self.model = model\n",
        "    def details(self):\n",
        "      return self.company,self.model\n",
        "\n",
        "class ElectricCar(Car):\n",
        "    def __init__(self,com,model,battery):\n",
        "        super().__init__(com,model)\n",
        "        self.bat = battery\n",
        "\n",
        "    def carDetails(self):\n",
        "      return f'Car Company {self.company} car model: {self.model} batrery watt {self.bat}'\n",
        "\n",
        "car = ElectricCar('Tata','exv','45')\n",
        "print(car.carDetails())\n",
        "\n"
      ],
      "metadata": {
        "colab": {
          "base_uri": "https://localhost:8080/"
        },
        "id": "GLa7jZ5HaVsU",
        "outputId": "dcbe496f-08f4-4382-8c3c-63cfb6496419"
      },
      "execution_count": null,
      "outputs": [
        {
          "output_type": "stream",
          "name": "stdout",
          "text": [
            "Car Company Tata car model: exv batrery watt 45\n"
          ]
        }
      ]
    },
    {
      "cell_type": "code",
      "source": [
        "# 4. Demonstrate polymorphism by creating a base class Bird with a method fly(). Create two derived classes\n",
        "# Sparrow and Penguin that override the fly() method.\n",
        "\n",
        "class Bird:\n",
        "  def fly():\n",
        "    return 'Bird Fly'\n",
        "class Sparrow(Bird):\n",
        "  def fly():\n",
        "    return 'Sparrow fly'\n",
        "class Penguin(Bird):\n",
        "  def fly():\n",
        "    return 'penguin fly'\n",
        "\n",
        "bird = Penguin\n",
        "print(bird.fly())\n",
        "bird = Sparrow\n",
        "print(bird.fly())\n",
        "bird = Bird\n",
        "print(bird.fly())"
      ],
      "metadata": {
        "colab": {
          "base_uri": "https://localhost:8080/"
        },
        "id": "8kkTA0n0aad8",
        "outputId": "44fe3b1d-8839-461d-c120-a9017db86e93"
      },
      "execution_count": null,
      "outputs": [
        {
          "output_type": "stream",
          "name": "stdout",
          "text": [
            "penguin fly\n",
            "Sparrow fly\n",
            "Bird Fly\n"
          ]
        }
      ]
    },
    {
      "cell_type": "code",
      "source": [
        "# 5. Write a program to demonstrate encapsulation by creating a class BankAccount with private attributes\n",
        "# balance and methods to deposit, withdraw, and check balance.\n",
        "\n",
        "class BankAccount:\n",
        "    curr = 'Rs'\n",
        "    def __init__(self,accoNo,balance):\n",
        "      self.__accNo = accoNo\n",
        "      self._bal = balance\n",
        "\n",
        "    def get_balance(self,accno):\n",
        "      self.acc = accno\n",
        "      if self.acc == self.__accNo:\n",
        "          return f' your balance {self._bal}'\n",
        "      else:\n",
        "         return f'please provide correct account no'\n",
        "\n",
        "    def withdraw(self,amt,accno):\n",
        "\n",
        "        if amt > self._bal:\n",
        "            return f'Sorry you have insufficent balance.your balance is {self._bal}'\n",
        "        else:\n",
        "          if accno == self.__accNo:\n",
        "            print('wait withdrwaing...')\n",
        "\n",
        "            return f' your amount {amt} is withdrawed. now remaining is {self._bal - amt}'\n",
        "          else:\n",
        "             return f'please provide correct account no'\n",
        "\n",
        "    def deposite(self,amt,accno):\n",
        "        # self.amt = amt\n",
        "\n",
        "        if  accno == self.__accNo:\n",
        "          self._bal += amt\n",
        "          return f'your amt:{amt} deposited!.Now balance is: {self._bal}'\n",
        "        else:\n",
        "         return f'please provide correct account no'\n",
        "\n",
        "acc = BankAccount('ACC0001',1000)\n",
        "print(acc.get_balance('ACC0001')) # get balance\n",
        "print(acc.deposite(123,'ACC0001'))\n",
        "print(acc.withdraw(120,'ACC0001'))\n",
        "\n",
        "\n",
        "\n",
        "\n",
        "\n",
        "\n"
      ],
      "metadata": {
        "colab": {
          "base_uri": "https://localhost:8080/"
        },
        "id": "p9kerOz9aeIu",
        "outputId": "d1c420a5-5368-483a-e2d4-f259d93317b2"
      },
      "execution_count": null,
      "outputs": [
        {
          "output_type": "stream",
          "name": "stdout",
          "text": [
            " your balance 1000\n",
            "your amt:123 deposited!.Now balance is: 1123\n",
            "wait withdrwaing...\n",
            " your amount 120 is withdrawed. now remaining is 1003\n"
          ]
        }
      ]
    },
    {
      "cell_type": "code",
      "source": [
        "# 6. Demonstrate runtime polymorphism using a method play() in a base class Instrument. Derive classes Guitar\n",
        "# and Piano that implement their own version of play()\n",
        "\n",
        "class Instrument:\n",
        "    def play(self):\n",
        "        print('It is Instrument play')\n",
        "class Guitar(Instrument):\n",
        "    def play(self):\n",
        "        print('It is Guitar play')\n",
        "inst_guitar = Guitar()\n",
        "inst = Instrument()\n",
        "inst.play()\n",
        "inst_guitar.play()"
      ],
      "metadata": {
        "colab": {
          "base_uri": "https://localhost:8080/"
        },
        "id": "WycF2x-eaik4",
        "outputId": "72b16b24-1380-41dc-c92e-7e12553a48b9"
      },
      "execution_count": null,
      "outputs": [
        {
          "output_type": "stream",
          "name": "stdout",
          "text": [
            "It is Instrument play\n",
            "It is Guitar play\n"
          ]
        }
      ]
    },
    {
      "cell_type": "code",
      "source": [
        "# 7. Create a class MathOperations with a class method add_numbers() to add two numbers and a static\n",
        "# method subtract_numbers() to subtract two numbers.\n",
        "class MathOperations:\n",
        "    a = 2\n",
        "    b = 5\n",
        "    @classmethod\n",
        "    def add_numbers(cls):\n",
        "        return cls.a + cls.b\n",
        "\n",
        "    @staticmethod\n",
        "    def substract_numbers(a,b):\n",
        "        return  a - b\n",
        "math = MathOperations()\n",
        "# print(math.add_numbers())\n",
        "print(math.substract_numbers(20,15))\n",
        "\n"
      ],
      "metadata": {
        "colab": {
          "base_uri": "https://localhost:8080/"
        },
        "id": "qvlJ1YJ6anXU",
        "outputId": "578bab18-8004-4972-ae0a-e9529b4a72d0"
      },
      "execution_count": null,
      "outputs": [
        {
          "output_type": "stream",
          "name": "stdout",
          "text": [
            "5\n"
          ]
        }
      ]
    },
    {
      "cell_type": "code",
      "source": [
        "# 8. Implement a class Person with a class method to count the total number of persons created.\n",
        "\n",
        "class Person:\n",
        "    per = 0\n",
        "    def __init__(self,person_name):\n",
        "        self.person_name = person_name\n",
        "        Person.per += 1\n",
        "    def countPerson(cls):\n",
        "        return cls.per\n",
        "per = Person('akash')\n",
        "per1 = Person('akash')\n",
        "print(per.countPerson())"
      ],
      "metadata": {
        "colab": {
          "base_uri": "https://localhost:8080/"
        },
        "id": "LIdfUCQHaqpd",
        "outputId": "8c1c709f-81f2-4857-c720-e4ff5abe98ca"
      },
      "execution_count": null,
      "outputs": [
        {
          "output_type": "stream",
          "name": "stdout",
          "text": [
            "2\n"
          ]
        }
      ]
    },
    {
      "cell_type": "code",
      "source": [
        "# 9. Write a class Fraction with attributes numerator and denominator. Override the str method to display the\n",
        "# fraction as \"numerator/denominator\".\n",
        "\n",
        "class Fraction:\n",
        "    def __init__(self,numerator,denominator):\n",
        "          if denominator == 0:\n",
        "              raise ValueError('denominator should be greater than zero!')\n",
        "          self.numerator = numerator\n",
        "          self.denominator = denominator\n",
        "    def __str__(self):\n",
        "        return f'{self.numerator / self.denominator}'\n",
        "\n",
        "fact = Fraction(12,10)\n",
        "print(fact)\n",
        "\n",
        "\n"
      ],
      "metadata": {
        "colab": {
          "base_uri": "https://localhost:8080/"
        },
        "id": "MG2g5umOate3",
        "outputId": "079a4303-74ca-436b-890c-365366f408f8"
      },
      "execution_count": null,
      "outputs": [
        {
          "output_type": "stream",
          "name": "stdout",
          "text": [
            "1.2\n"
          ]
        }
      ]
    },
    {
      "cell_type": "code",
      "source": [
        "# 10. Demonstrate operator overloading by creating a class Vector and overriding the add method to add two\n",
        "# vectors.\n",
        "class Vector:\n",
        "      def __init__(self,a,b):\n",
        "          self.a = a\n",
        "          self.b = b\n",
        "      def __add__(self,other):\n",
        "          if isinstance(other,Vector):\n",
        "                return (self.a + other.b + self.b + other.b)\n",
        "          else:\n",
        "            raise ValueError('Unsupported format'.format(type(other).__name__))\n",
        "      def __str__(self):\n",
        "          return f'Vector {self.a} , {self.b}'\n",
        "vector1 = Vector(2,4)\n",
        "vector2 = Vector(5,7)\n",
        "# print(vector1)\n",
        "add_vector = vector1 + vector2\n",
        "print(f'verctor 1: {vector1}')\n",
        "print(f'vector 2: {vector2}')\n",
        "print(f'sum {add_vector}')\n",
        "\n",
        "try:\n",
        "   invalid_sum = vector1 + 10\n",
        "except Exception as er:\n",
        "   print('error:',er)\n"
      ],
      "metadata": {
        "colab": {
          "base_uri": "https://localhost:8080/"
        },
        "id": "yHR01Ms-axyl",
        "outputId": "578bedb7-9fdb-4c0e-b6df-235616fe2fbc"
      },
      "execution_count": null,
      "outputs": [
        {
          "output_type": "stream",
          "name": "stdout",
          "text": [
            "verctor 1: Vector 2 , 4\n",
            "vector 2: Vector 5 , 7\n",
            "sum 20\n",
            "error: Unsupported format\n"
          ]
        }
      ]
    },
    {
      "cell_type": "code",
      "source": [
        "# 11. Create a class Person with attributes name and age. Add a method greet() that prints \"Hello, my name is\n",
        "# {name} and I am {age} years old.\"\n",
        "class Person:\n",
        "  def __init__(self,name,age):\n",
        "      self.name = name\n",
        "      self.age = age\n",
        "  def greet(self):\n",
        "    return f'Hello,my name is {self.name} and I am {self.age} years old.'\n",
        "p1  = Person('Akshay',28)\n",
        "p1.greet()\n",
        "\n",
        "# using classmethod\n",
        "class Person:\n",
        "  name = \"akshay\"\n",
        "  age = 28\n",
        "  @classmethod\n",
        "  def greet(cls):\n",
        "    return f'Hello,my name is {cls.name} and I am {cls.age} years old.'\n",
        "# p1  = Person()\n",
        "# p1.greet()"
      ],
      "metadata": {
        "id": "jk_zU2VnXls2",
        "colab": {
          "base_uri": "https://localhost:8080/",
          "height": 35
        },
        "outputId": "ab53a6f7-bfc9-4ae0-dd24-f22581d21163"
      },
      "execution_count": 8,
      "outputs": [
        {
          "output_type": "execute_result",
          "data": {
            "text/plain": [
              "'Hello,my name is akshay and I am 28 years old.'"
            ],
            "application/vnd.google.colaboratory.intrinsic+json": {
              "type": "string"
            }
          },
          "metadata": {},
          "execution_count": 8
        }
      ]
    },
    {
      "cell_type": "code",
      "source": [
        "# 12. Implement a class Student with attributes name and grades. Create a method average_grade() to compute\n",
        "# the average of the grades.\n",
        "\n",
        "class Student:\n",
        "     def __init__(self,name,grade):\n",
        "       self.name = name\n",
        "       self.grades = grade\n",
        "     def average_grade(self):\n",
        "            total = sum(self.grades)\n",
        "            return total // len(self.grades)\n",
        "s1 = Student('akash',[2,4,6])\n",
        "s1.average_grade()"
      ],
      "metadata": {
        "id": "jrZV5QouXn_D",
        "colab": {
          "base_uri": "https://localhost:8080/"
        },
        "outputId": "b176ff2c-8024-438e-dbe7-bd2cd1cc69a6"
      },
      "execution_count": 12,
      "outputs": [
        {
          "output_type": "execute_result",
          "data": {
            "text/plain": [
              "4"
            ]
          },
          "metadata": {},
          "execution_count": 12
        }
      ]
    },
    {
      "cell_type": "code",
      "source": [
        "# 13. Create a class Rectangle with methods set_dimensions() to set the dimensions and area() to calculate the\n",
        "# area.\n",
        "\n",
        "class Rectangle:\n",
        "   def __init__(self,l,w):\n",
        "      self.length = l\n",
        "      self.width  = w\n",
        "   def set_dimensions(self,length,width):\n",
        "      self.length = length\n",
        "      self.width = width\n",
        "   def area(self):\n",
        "     return self.length * self.width\n",
        "\n",
        "r1 = Rectangle(5,3)\n",
        "r1.area()\n",
        "\n",
        "\n"
      ],
      "metadata": {
        "id": "fTxjWq6ZXrAK",
        "colab": {
          "base_uri": "https://localhost:8080/"
        },
        "outputId": "71f411d7-254d-4fbb-a8ed-bbc51da017da"
      },
      "execution_count": 13,
      "outputs": [
        {
          "output_type": "execute_result",
          "data": {
            "text/plain": [
              "15"
            ]
          },
          "metadata": {},
          "execution_count": 13
        }
      ]
    },
    {
      "cell_type": "code",
      "source": [
        "# 14. Create a class Employee with a method calculate_salary() that computes the salary based on hours worked\n",
        "# and hourly rate. Create a derived class Manager that adds a bonus to the salary.\n",
        "\n",
        "class Employee:\n",
        "    rate = 100\n",
        "    def __init__(self,worked_hours):\n",
        "        self.hw = worked_hours\n",
        "    def calculate_salary(self):\n",
        "         return self.hw  * self.rate\n",
        "class Manager(Employee):\n",
        "     def __init__(self,name,salary,worked_hours):\n",
        "        self.name = name\n",
        "        self.salary = salary\n",
        "        super().__init__(worked_hours)\n",
        "     def details(self):\n",
        "        return f'name: {self.name} salary: {self.salary} and bonus {self.calculate_salary()}'\n",
        "e1 = Manager('Akash',25000,12)\n",
        "e1.details()"
      ],
      "metadata": {
        "id": "DSxQIU6cXuQr",
        "colab": {
          "base_uri": "https://localhost:8080/",
          "height": 35
        },
        "outputId": "5f6d4f4c-851b-492b-e53a-810d64197249"
      },
      "execution_count": 17,
      "outputs": [
        {
          "output_type": "execute_result",
          "data": {
            "text/plain": [
              "'name: Akash salary: 25000 and bonus 1200'"
            ],
            "application/vnd.google.colaboratory.intrinsic+json": {
              "type": "string"
            }
          },
          "metadata": {},
          "execution_count": 17
        }
      ]
    },
    {
      "cell_type": "code",
      "source": [
        "# 15. Create a class Product with attributes name, price, and quantity. Implement a method total_price() that\n",
        "# calculates the total price of the product.\n",
        "\n",
        "class Product:\n",
        "    def __init__(self,name,price,quantity):\n",
        "        self.name = name\n",
        "        self.price = price\n",
        "        self.quantity = quantity\n",
        "    def total_price(self):\n",
        "         return f'Total cost : {self.price * self.quantity} Rs.'\n",
        "p1 = Product('sugar',40,2)\n",
        "p1.total_price()\n"
      ],
      "metadata": {
        "id": "jb2hr7UYXxgZ",
        "colab": {
          "base_uri": "https://localhost:8080/",
          "height": 35
        },
        "outputId": "4f1d1ed1-8b83-471e-f1b4-aed2c0674d5e"
      },
      "execution_count": 18,
      "outputs": [
        {
          "output_type": "execute_result",
          "data": {
            "text/plain": [
              "'Total cost : 80'"
            ],
            "application/vnd.google.colaboratory.intrinsic+json": {
              "type": "string"
            }
          },
          "metadata": {},
          "execution_count": 18
        }
      ]
    },
    {
      "cell_type": "code",
      "source": [
        "#  16. Create a class Animal with an abstract method sound(). Create two derived classes Cow and Sheep that\n",
        "# implement the sound() method.\n",
        "from abc import ABC,abstractmethod\n",
        "\n",
        "class Animal(ABC):\n",
        "   @abstractmethod\n",
        "   def sound(self):\n",
        "      pass\n",
        "class Cow(Animal):\n",
        "   def sound(self):\n",
        "      return 'Cow Bo'\n",
        "class Sheep(Animal):\n",
        "   def sound(self):\n",
        "    return 'Sheep Maww'\n",
        "s = Sheep()\n",
        "s.sound()\n"
      ],
      "metadata": {
        "id": "f9E5M61jX1Sb",
        "colab": {
          "base_uri": "https://localhost:8080/",
          "height": 35
        },
        "outputId": "8c3983ab-a9e4-49fb-8ff9-1c7d629d7895"
      },
      "execution_count": 20,
      "outputs": [
        {
          "output_type": "execute_result",
          "data": {
            "text/plain": [
              "'Sheep'"
            ],
            "application/vnd.google.colaboratory.intrinsic+json": {
              "type": "string"
            }
          },
          "metadata": {},
          "execution_count": 20
        }
      ]
    },
    {
      "cell_type": "code",
      "source": [
        "# 17. Create a class Book with attributes title, author, and year_published. Add a method get_book_info() that\n",
        "# returns a formatted string with the book's details.\n",
        "class Book:\n",
        "   def __init__(self,title,author,year_published):\n",
        "       self.title = title\n",
        "       self.author = author\n",
        "       self.pub_yr = year_published\n",
        "   def get_book_info(self):\n",
        "       return f'Book name: {self.title} author name: {self.author} published year {self.pub_yr}'\n",
        "b1 = Book('Basic python','JJ singh',2010)\n",
        "b1.get_book_info()\n"
      ],
      "metadata": {
        "id": "r_TIRD_AX4tb",
        "colab": {
          "base_uri": "https://localhost:8080/",
          "height": 35
        },
        "outputId": "40d2cc9a-7760-4cec-e3a6-1b2e162495ce"
      },
      "execution_count": 21,
      "outputs": [
        {
          "output_type": "execute_result",
          "data": {
            "text/plain": [
              "'Book name: Basic python author name: JJ singh published year 2010'"
            ],
            "application/vnd.google.colaboratory.intrinsic+json": {
              "type": "string"
            }
          },
          "metadata": {},
          "execution_count": 21
        }
      ]
    },
    {
      "cell_type": "code",
      "source": [
        "# 18. Create a class House with attributes address and price. Create a derived class Mansion that adds an\n",
        "# attribute number_of_rooms.\n",
        "\n",
        "class House:\n",
        "    def __init__(self,address,price):\n",
        "        self.address = address\n",
        "        self.price = price\n",
        "class Mansion(House):\n",
        "    def __init__(self,number_of_rooms,address,price):\n",
        "        self.rooms = number_of_rooms\n",
        "        super().__init__(address,price)\n",
        "    def details(self):\n",
        "       return f'address: {self.address} and rooms: {self.rooms} and price: {self.price}'\n",
        "h1 = Mansion(3,'ABC road',2500)\n",
        "h1.details()\n"
      ],
      "metadata": {
        "id": "KosGIFWPX7vq",
        "colab": {
          "base_uri": "https://localhost:8080/",
          "height": 35
        },
        "outputId": "2e8863ab-c3c0-48a8-9a12-48334b7d4d9c"
      },
      "execution_count": 24,
      "outputs": [
        {
          "output_type": "execute_result",
          "data": {
            "text/plain": [
              "'address: ABC road and rooms: 3 and price: 2500'"
            ],
            "application/vnd.google.colaboratory.intrinsic+json": {
              "type": "string"
            }
          },
          "metadata": {},
          "execution_count": 24
        }
      ]
    }
  ]
}