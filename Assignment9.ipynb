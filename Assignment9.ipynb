{
  "nbformat": 4,
  "nbformat_minor": 0,
  "metadata": {
    "colab": {
      "provenance": []
    },
    "kernelspec": {
      "name": "python3",
      "display_name": "Python 3"
    },
    "language_info": {
      "name": "python"
    }
  },
  "cells": [
    {
      "cell_type": "markdown",
      "source": [
        "Question 1: What is a random variable in probability theory?\n",
        "\n",
        "a random variable is a function that assigns a numerical value to each outcome of a random experiment.\n",
        "\n",
        "These variables are typically denoted by capital letters like X or Y, and their possible values form a probability distribution, showing the likelihood of each specific outcome.\n"
      ],
      "metadata": {
        "id": "TCJtEEukoSV3"
      }
    },
    {
      "cell_type": "markdown",
      "source": [
        "Question2 : What are the types of random variables?\n",
        "\n",
        "There are two primary types of random variables: discrete and continuous"
      ],
      "metadata": {
        "id": "TcN0P6ZFoVgW"
      }
    },
    {
      "cell_type": "markdown",
      "source": [
        "Question 3: Explain the difference between discrete and continuous distributions.\n",
        "\n",
        "Discrete random variables can only take on a countable number of distinct values, like the number of heads in coin tosses or the result of a die roll.\n",
        "\n",
        "Continuous random variables, conversely, can take on an infinite number of values within a given range, such as the height of a person or the time it takes for something to burn out.  "
      ],
      "metadata": {
        "id": "7qfgLKSRocm9"
      }
    },
    {
      "cell_type": "markdown",
      "source": [
        "Question 4: What is a binomial distribution, and how is it used in probability?\n",
        "\n",
        "A binomial distribution is a probability distribution that models the likelihood of achieving a specific number of \"successes\" in a fixed number of independent trials, where each trial has only two possible outcomes (success or failure)."
      ],
      "metadata": {
        "id": "6vnB_FQ-ofTq"
      }
    },
    {
      "cell_type": "markdown",
      "source": [
        "Question 5: What is the standard normal distribution, and why is it important?\n",
        "\n",
        "The standard normal distribution, also called the z-distribution, is a special normal distribution where the mean is 0 and the standard deviation is 1.\n",
        "\n",
        "It is important because:\n",
        "* Probability Calculations\n",
        "* Comparing Data\n",
        "* Foundation for Statistics\n",
        "* The Central Limit Theorem"
      ],
      "metadata": {
        "id": "NSGCqgXMojSQ"
      }
    },
    {
      "cell_type": "markdown",
      "source": [
        "Question 6: What is the Central Limit Theorem (CLT), and why is it critical in statistics?\n",
        "\n",
        "The Central Limit Theorem (CLT) states that when you take sufficiently large random samples from a population, regardless of the population's original distribution, the distribution of the sample means will approximate a normal distribution."
      ],
      "metadata": {
        "id": "srQEDQiRolw-"
      }
    },
    {
      "cell_type": "markdown",
      "source": [
        "Question 7: What is the significance of confidence intervals in statistical analysis?\n",
        "\n",
        "Confidence intervals are significant in statistical analysis because they quantify the uncertainty around a sample estimate, providing a range of values that is likely to contain the true population parameter."
      ],
      "metadata": {
        "id": "TGrIjnzKooBj"
      }
    },
    {
      "cell_type": "markdown",
      "source": [
        "Question 8: What is the concept of expected value in a probability distribution?\n",
        "\n",
        "The concept of expected value (or mean, average) in a probability distribution is the long-term average outcome of a random event if the experiment were repeated many times."
      ],
      "metadata": {
        "id": "0GYjo1M0orfa"
      }
    },
    {
      "cell_type": "code",
      "source": [
        "\"\"\" Question 9: Write a Python program to generate 1000 random numbers from a normal\n",
        "distribution with mean = 50 and standard deviation = 5. Compute its mean and standard\n",
        "deviation using NumPy, and draw a histogram to visualize the distribution.\"\"\"\n",
        "\n",
        "import numpy as np\n",
        "import matplotlib.pyplot as plt\n",
        "\n",
        "mean = 50\n",
        "std_dev = 5\n",
        "num_samples = 1000\n",
        "\n",
        "random_numbers = np.random.normal(loc=mean, scale=std_dev, size=num_samples)\n",
        "computed_mean = np.mean(random_numbers)\n",
        "computed_std_dev = np.std(random_numbers)\n",
        "\n",
        "plt.hist(random_numbers, bins=30, edgecolor='black')\n",
        "plt.title('Histogram of Random Numbers from Normal Distribution')\n",
        "plt.xlabel('Value')\n",
        "plt.ylabel('Frequency')\n",
        "plt.grid(True)\n",
        "plt.show()\n"
      ],
      "metadata": {
        "colab": {
          "base_uri": "https://localhost:8080/",
          "height": 472
        },
        "id": "NZmuMrsONi4m",
        "outputId": "880818f3-71f8-48de-93da-78f16bb13cc3"
      },
      "execution_count": 1,
      "outputs": [
        {
          "output_type": "display_data",
          "data": {
            "text/plain": [
              "<Figure size 640x480 with 1 Axes>"
            ],
            "image/png": "[encoded data removed]"
          },
          "metadata": {}
        }
      ]
    },
    {
      "cell_type": "code",
      "source": [
        "\"\"\"Question 10: You are working as a data analyst for a retail company. The company has collected daily sales data for 2 years and wants you to identify the overall sales trend. daily_sales = [220, 245, 210, 265, 230, 250, 260, 275, 240, 255, 235, 260, 245, 250, 225, 270, 265, 255, 250, 260] ● Explain how you would apply the Central Limit Theorem to estimate the average sales with a 95% confidence interval. ● Write the Python code to compute the mean sales and its confidence interval.\"\"\""
      ],
      "metadata": {
        "id": "ai6DISdjOVmV"
      },
      "execution_count": null,
      "outputs": []
    }
  ]
}