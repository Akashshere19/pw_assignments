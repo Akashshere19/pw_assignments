{
  "nbformat": 4,
  "nbformat_minor": 0,
  "metadata": {
    "colab": {
      "provenance": []
    },
    "kernelspec": {
      "name": "python3",
      "display_name": "Python 3"
    },
    "language_info": {
      "name": "python"
    }
  },
  "cells": [
    {
      "cell_type": "markdown",
      "source": [
        "1. What is a RESTful API?\n",
        "\n",
        "API stand for Application Programming Interface,It is set of rule that communicate between two software.\n",
        "Restful means representational state transfer protocol.It one of type of APIs.It based on statelessness,client-server architecture,layered system,cachebility,uniform interface.It is used HTTP method and it is use PUT,POST,GET,PATCH methods"
      ],
      "metadata": {
        "id": "f7ab3vWQlWre"
      }
    },
    {
      "cell_type": "markdown",
      "source": [
        "2. Explain the concept of API specification?\n",
        "\n",
        "APIs is technique that use to communicate two software each other and API specification is a description format or manual for REST APIs,How can client call apis.\n",
        "\n",
        "Core Concepts in API Specifications:\n",
        "\n",
        "*  Endpoints\n",
        "*  input parameters\n",
        "*  call method/request methods\n",
        "*  headers parameter\n",
        "*  response\n",
        "*  data types\n",
        "*  versioning\n",
        "\n"
      ],
      "metadata": {
        "id": "kdKfqo2Ylf5u"
      }
    },
    {
      "cell_type": "markdown",
      "source": [
        "3. What is Flask, and why is it popular for building APIs\n",
        "\n",
        "flask is webframe for creating web pages and apis for the frontend technologies like web app,mobile app etc.it is use python language and open source web framewrok that use for creating small scale web app.\n"
      ],
      "metadata": {
        "id": "jEc02F20ljwM"
      }
    },
    {
      "cell_type": "markdown",
      "source": [
        "4. What is routing in Flask?\n",
        "\n",
        "routing is bridge between views function(server) and client.it is use for calling end points and map functions.\n"
      ],
      "metadata": {
        "id": "-T0MEW0xllDM"
      }
    },
    {
      "cell_type": "markdown",
      "source": [
        "5. How do you create a simple Flask application?\n",
        "steps:\n",
        "1. create and activate virtual environment for project.\n",
        "2. install flask --- using pip install flask\n",
        "3. create app.py and write code\n",
        "\n",
        "from flask import Flask\n",
        "app = Flask(__name__)\n",
        "\n",
        "@app.route('/')\n",
        "def hello_world():\n",
        "    return 'Hello, World!'\n",
        "\n",
        "if __name__ == '__main__':\n",
        "    app.run(debug=True)"
      ],
      "metadata": {
        "id": "pxPaUelDmQjJ"
      }
    },
    {
      "cell_type": "markdown",
      "source": [
        "6. What are HTTP methods used in RESTful APIs?\n",
        "\n",
        "HTTP statnds for hyper text transfer protocol that uses some methods:\n",
        "* POST\n",
        "* GET\n",
        "* PUT\n",
        "* DELETE"
      ],
      "metadata": {
        "id": "agp2C-RkmUbQ"
      }
    },
    {
      "cell_type": "markdown",
      "source": [
        "7. What is the purpose of the @app.route() decorator in Flask?\n",
        "\n",
        "@app.route() it is mapping url for end points of apis\n",
        "and call function and run the view function."
      ],
      "metadata": {
        "id": "0jpQN8AzmX4K"
      }
    },
    {
      "cell_type": "markdown",
      "source": [
        "8. What is the difference between GET and POST HTTP methods?\n",
        "\n",
        "GET - It is return data from server to client side .\n",
        "POST It is also HTTP methods but it take input from client side and reeturn data from server side to client.\n"
      ],
      "metadata": {
        "id": "kRNhkCTWmbZn"
      }
    },
    {
      "cell_type": "markdown",
      "source": [
        "9. How do you handle errors in Flask APIs?\n",
        "\n",
        "@app.errorhandler Decorator: This decorator allows you to register functions to handle specific HTTP error codes (e.g., 404 Not Found, 500 Internal Server Error) or custom exception classes\n",
        "\n",
        "Using template we can handle errors in flask.\n",
        "we can also try and except block for rendering error template"
      ],
      "metadata": {
        "id": "YMJb-89cmeqy"
      }
    },
    {
      "cell_type": "markdown",
      "source": [
        "10. How do you connect Flask to a SQL database?\n",
        "\n",
        "In flask we use DB connector .\n",
        "also we can use Flask-SQLAlchemy.\n",
        "and in models.py we can define tables and columns"
      ],
      "metadata": {
        "id": "B4cUdIhVmhr6"
      }
    },
    {
      "cell_type": "markdown",
      "source": [
        "11. What is the role of Flask-SQLAlchemy?\n",
        "\n",
        "Flask-SQLAlchemy is external library that use to integrate with data base and flask.It is install using pip command and we can configure inside app.config."
      ],
      "metadata": {
        "id": "HvmclpE7Tsd3"
      }
    },
    {
      "cell_type": "markdown",
      "source": [
        "12. What are Flask blueprints, and how are they useful?\n",
        "\n",
        "Flask Blueprints are a mechanism within the Flask web framework that facilitates the organization of large and complex web applications into smaller, modular, and reusable components.\n",
        "\n",
        "Blueprints is to organize a Flask application into separate modules.\n",
        "\n",
        "each handling a specific feature with its own routes, templates,and static files.\n",
        "\n",
        "This helps keep the application structured and reduces complexity.\n"
      ],
      "metadata": {
        "id": "N_A01gK8Tuam"
      }
    },
    {
      "cell_type": "markdown",
      "source": [
        "13.  What is the purpose of Flask's request object?\n",
        "\n",
        "request object  is return information coming from client side to server in API call like method,data,headers file info. It acts as a container for all incoming request data and is automatically created and made available within the request context when a request is received."
      ],
      "metadata": {
        "id": "xwF-kc0STx15"
      }
    },
    {
      "cell_type": "markdown",
      "source": [
        "14. How do you create a RESTful API endpoint using Flask?\n",
        "\n",
        "REST API means representational state transfer it is creates in flask using app.route and write methods\n",
        "\n"
      ],
      "metadata": {
        "id": "Ioxzhv-vT1YI"
      }
    },
    {
      "cell_type": "code",
      "source": [
        "from flask import Flask,request,jsonify\n",
        "@app.route('/api',methods=['GET','POST'])\n",
        "\n",
        "def api_data():\n",
        "\n",
        "       data = {\"name\":'ashok',\"age\":60,\"mob\":9877765534}\n",
        "\n",
        "       return (data)"
      ],
      "metadata": {
        "id": "-5EplcRaOKbz"
      },
      "execution_count": null,
      "outputs": []
    },
    {
      "cell_type": "markdown",
      "source": [
        "15. What is the purpose of Flask's jsonify() function?\n",
        "\n",
        "jsonify() function serves the purpose of simplifying the creation of JSON responses in web applications built with Flask.\n",
        "\n",
        "jsonify is return the data in json formart in post api call.\n",
        "\n",
        "It takes Python data structures (typically dictionaries or lists) and automatically converts them into a JSON-formatted string"
      ],
      "metadata": {
        "id": "Y8S0Kjr2T4zb"
      }
    },
    {
      "cell_type": "markdown",
      "source": [
        "16.  Explain Flask’s url_for() function?\n",
        "\n",
        "Flask's url_for() function is a core utility used for dynamic URL building within a Flask application.\n",
        "\n",
        "url_for() takes the name of the view function (or endpoint) as its first argument and dynamically constructs the URL associated with that function.\n",
        "\n",
        " This means if you change the URL route for a function, you only need to update the @app.route() decorator, and all url_for() calls referencing that function will automatically generate the correct new URL"
      ],
      "metadata": {
        "id": "yNepT-2tT9hc"
      }
    },
    {
      "cell_type": "markdown",
      "source": [
        "17.  How does Flask handle static files (CSS, JavaScript, etc.)?\n",
        "\n",
        "It is straightforward way to handle static files such as CSS etc. but this are not dynamically generated .\n",
        "\n",
        "generally developer create folder static at the root level of  Flask application.and All static files should be placed within this directory."
      ],
      "metadata": {
        "id": "mWQhlruZUA77"
      }
    },
    {
      "cell_type": "markdown",
      "source": [
        "18. What is an API specification, and how does it help in building a Flask API?\n",
        "\n",
        "API specification is a formal, machine-readable document or standard that comprehensively describes the structure, behavior, and capabilities of an API.\n",
        "It serves as a blueprint for both API providers and consumers, detailing aspects.\n",
        "\n",
        "It helps to build an API:\n",
        "\n",
        "\n",
        "\n",
        "*  Enabling Design-First Development.\n",
        "*  Generating Documentation.\n",
        "*  Facilitating Code Generation.\n",
        "*  Enhancing Consistency and Standardization.\n",
        "*  Simplifying Testing.\n",
        "\n",
        "\n"
      ],
      "metadata": {
        "id": "73AYjtwmUEin"
      }
    },
    {
      "cell_type": "markdown",
      "source": [
        "19. What are HTTP status codes, and why are they important in a Flask API?\n",
        "\n",
        "HTTP status codes indicate the outcome of a client's request to the server.\n",
        "HTTP status codes are guide to client for api call is success or not.\n",
        "codes are numerical and fall into different categories, each signifying a specific type of response.\n",
        "\n",
        "\n",
        "\n",
        "*  200 - ok means url and method is ok\n",
        "*  201 - data created successfully on server.\n",
        "*  204 - content not found\n",
        "\n",
        "* 301 - It is shows permantly moved on another url\n",
        "\n",
        "* 400 - Bad request (The server cannot or will not process the request due to a client error)\n",
        "* 401 - Unauthorized\n",
        "* 403 - forbidden (means server knows request but reject due to authrized)\n",
        "* 404 - method not found (The server cannot find the requested resource)\n",
        "* 405 - method not allowed (The HTTP method used is not supported for the requested resource)\n",
        "\n",
        "* 500 Internal Server Error.\n",
        "\n"
      ],
      "metadata": {
        "id": "IGb5QJlzUIY6"
      }
    },
    {
      "cell_type": "markdown",
      "source": [
        "20. How do you handle POST requests in Flask?\n",
        "\n",
        "POST  method makes enables users to send data over to the server.\n",
        "\n",
        "It Used to send HTML form data to the server. The data received by the POST method is not cached by the server.\n",
        "\n",
        "\n",
        " @app.route('/submit_form', methods=['GET', 'POST'])\n",
        "def submit_form():\n",
        "        if request.method == 'POST':\n",
        "                       ........"
      ],
      "metadata": {
        "id": "2IpzVogBUNK2"
      }
    },
    {
      "cell_type": "markdown",
      "source": [
        "21.  How would you secure a Flask API?\n",
        "\n",
        "Secure an API is based on some methods that are gives below.\n",
        "\n",
        "* Authorization and authentication method - defined who can access which page and authentication.\n",
        "authorization can define techniques like json token method,OAuth 2.0,Flask-JWT-Extended,OTP based login.\n",
        "\n",
        "\n",
        "* throatlling - It is define to access api times or how many times hit url to user.\n",
        "* permissions - It is defines the permissions to user.which method can access.\n"
      ],
      "metadata": {
        "id": "y6lH_6pkURUG"
      }
    },
    {
      "cell_type": "markdown",
      "source": [
        "22. What is the significance of the Flask-RESTful extension?\n",
        "\n",
        "The Flask-RESTful extension significantly streamlines the development of RESTful APIs within the Flask framework by providing a more structured and efficient approach.\n",
        "Flask-RESTful introduces the Resource class, allowing developers to define API endpoints and their associated HTTP methods (GET, POST, PUT, DELETE) as class methods."
      ],
      "metadata": {
        "id": "GN_d3H36UU_N"
      }
    },
    {
      "cell_type": "markdown",
      "source": [
        "23. What is the role of Flask’s session object?\n",
        "\n",
        "The Flask session object provides a mechanism to store user-specific data across multiple requests within a web application.\n",
        "It functions like a dictionary, allowing developers to set and retrieve key-value pairs associated with a particular user's session."
      ],
      "metadata": {
        "id": "u0UDmqUVUYP2"
      }
    },
    {
      "cell_type": "markdown",
      "source": [
        "# **Practical Questions**"
      ],
      "metadata": {
        "id": "2_HVBXCzUcH3"
      }
    },
    {
      "cell_type": "code",
      "source": [
        "#  How do you create a basic Flask application\n",
        "from flask import Flask\n",
        "\n",
        "app = Flask(__name__)\n",
        "\n",
        "@app.route('/')\n",
        "def home():\n",
        "   return \"hello flask\"\n",
        "\n",
        "if __name__ == \"__main__\":\n",
        "    app.run()"
      ],
      "metadata": {
        "id": "sXZl9dMjUluo",
        "colab": {
          "base_uri": "https://localhost:8080/"
        },
        "outputId": "49770601-604b-4317-a84b-649e2612147a"
      },
      "execution_count": 17,
      "outputs": [
        {
          "output_type": "stream",
          "name": "stdout",
          "text": [
            " * Serving Flask app '__main__'\n",
            " * Debug mode: off\n"
          ]
        },
        {
          "output_type": "stream",
          "name": "stderr",
          "text": [
            "INFO:werkzeug:\u001b[31m\u001b[1mWARNING: This is a development server. Do not use it in a production deployment. Use a production WSGI server instead.\u001b[0m\n",
            " * Running on http://127.0.0.1:5000\n",
            "INFO:werkzeug:\u001b[33mPress CTRL+C to quit\u001b[0m\n"
          ]
        }
      ]
    },
    {
      "cell_type": "code",
      "source": [
        "#  How do you serve static files like images or CSS in Flask?\n",
        "# import os\n",
        "# os.mkdir('templates')\n",
        "\n",
        "from flask import Flask,render_template\n",
        "\n",
        "app1 = Flask(__name__)\n",
        "\n",
        "@app1.route('/')\n",
        "def index():\n",
        "\n",
        "  return render_template('index.html')\n",
        "\n",
        "if __name__ == \"__main__\":\n",
        "   app1.run(debug=True)"
      ],
      "metadata": {
        "id": "VlOD-K-YW0R6"
      },
      "execution_count": 23,
      "outputs": []
    },
    {
      "cell_type": "code",
      "source": [
        "#   How do you define different routes with different HTTP methods in Flask\n",
        "\n",
        "from flask import Flask,render_template,request\n",
        "\n",
        "app = Flask(__name__)\n",
        "\n",
        "@app.route('/',methods=['GET'])\n",
        "def home():\n",
        "   return render_template('index.html')\n",
        "\n",
        "@app.route('/api',methods=['POST'])\n",
        "def form():\n",
        "    data = request.data\n",
        "    print(data)\n",
        "    return \"data received\"\n",
        "\n",
        "if __name__ == \"__main__\":\n",
        "  app.run()\n"
      ],
      "metadata": {
        "id": "LuSTfzhPW1CX",
        "colab": {
          "base_uri": "https://localhost:8080/"
        },
        "outputId": "25ab443d-1562-4e53-eb3f-d29aaafb94a0"
      },
      "execution_count": 26,
      "outputs": [
        {
          "output_type": "stream",
          "name": "stdout",
          "text": [
            " * Serving Flask app '__main__'\n",
            " * Debug mode: off\n"
          ]
        },
        {
          "output_type": "stream",
          "name": "stderr",
          "text": [
            "INFO:werkzeug:\u001b[31m\u001b[1mWARNING: This is a development server. Do not use it in a production deployment. Use a production WSGI server instead.\u001b[0m\n",
            " * Running on http://127.0.0.1:5000\n",
            "INFO:werkzeug:\u001b[33mPress CTRL+C to quit\u001b[0m\n"
          ]
        }
      ]
    },
    {
      "cell_type": "code",
      "source": [
        "#  How do you render HTML templates in Flask?\n",
        "from flask import Flask,render_template,request\n",
        "\n",
        "app = Flask(__name__)\n",
        "\n",
        "@app.route('/',methods=['GET'])\n",
        "def home():\n",
        "   return render_template('index.html')\n",
        "\n",
        "if __name__ == \"__main__\":\n",
        "    app.run()"
      ],
      "metadata": {
        "id": "ODHvu_09W5y0",
        "colab": {
          "base_uri": "https://localhost:8080/"
        },
        "outputId": "0b417b3f-bf6e-4f69-90e0-bbd20953ed7b"
      },
      "execution_count": 28,
      "outputs": [
        {
          "output_type": "stream",
          "name": "stdout",
          "text": [
            " * Serving Flask app '__main__'\n",
            " * Debug mode: off\n"
          ]
        },
        {
          "output_type": "stream",
          "name": "stderr",
          "text": [
            "INFO:werkzeug:\u001b[31m\u001b[1mWARNING: This is a development server. Do not use it in a production deployment. Use a production WSGI server instead.\u001b[0m\n",
            " * Running on http://127.0.0.1:5000\n",
            "INFO:werkzeug:\u001b[33mPress CTRL+C to quit\u001b[0m\n"
          ]
        }
      ]
    },
    {
      "cell_type": "code",
      "source": [
        "# How can you generate URLs for routes in Flask using url_for?\n",
        "\n",
        "from flask import Flask,request,render_template,redirect,url_for\n",
        "\n",
        "app = Flask(__name__)\n",
        "\n",
        "@app.route('/',methods=['GET'])\n",
        "def home():\n",
        "  return render_template('home.html')\n",
        "\n",
        "@app.route('/cricket',methods=['GET'])\n",
        "def cricket():\n",
        "  return render_template('cricket.html')\n",
        "\n",
        "@app.route('/basket-ball',methods=['GET'])\n",
        "def basket_ball():\n",
        "  return render_template('basket_ball.html')\n",
        "\n",
        "@app.route('/volly-ball',methods=['GET'])\n",
        "def volly_ball():\n",
        "   return render_template('volly_ball.html')\n",
        "\n",
        "@app.route('/<name>/')\n",
        "def game(name):\n",
        "    if name == \"cricket\":\n",
        "      return redirect(url_for('cricket'))\n",
        "    if name == \"basket-ball\":\n",
        "      return redirect(url_for('basket-ball'))\n",
        "    if name == \"volly-ball\":\n",
        "      return redirect(url_for('volly-ball'))\n",
        "\n",
        "    else:\n",
        "      return redirect(url_for('workin-progress'))\n",
        "\n",
        "if __name__ == \"__main__\":\n",
        "   app.run()\n",
        "\n"
      ],
      "metadata": {
        "id": "mtY9_2wqW9Af"
      },
      "execution_count": null,
      "outputs": []
    },
    {
      "cell_type": "code",
      "source": [
        "#  How do you handle forms in Flask?\n",
        "# index.html\n",
        "  # <form method=\"post\" action=\"/wel\">\n",
        "  #    <img src=\"/static/cat.jpg\" alt=\"Cat image\" width=\"20%\" height=\"auto\" />\n",
        "  #       <label name=\"name\" for=\"name\">Name</label>\n",
        "  #       <input type=\"text\">\n",
        "  #       <label for=\"age\">Age</label>\n",
        "  #       <input type=\"text\">\n",
        "  #       <label for=\"Mob\">Mobile</label>\n",
        "  #       <input type=\"text\">\n",
        "  #       <button class=\"button\">Submit</button>\n",
        "  #   </form>\n",
        "\n",
        "\n",
        "from flask import Flask,render_template,redirect,request\n",
        "app = Flask(__name__)\n",
        "\n",
        "@app.route('/',methods=['GET'])\n",
        "def home():\n",
        "   return render_template('index.html')\n",
        "\n",
        "\n",
        "@app.route('/wel',methods=['GET'])\n",
        "def welcome():\n",
        "   return render_template('welcome.html')\n",
        "\n",
        "if __name__ == \"__main__\":\n",
        "  app.run()\n",
        "\n"
      ],
      "metadata": {
        "id": "qyzf_UNSW__V",
        "colab": {
          "base_uri": "https://localhost:8080/"
        },
        "outputId": "fe493cdb-60d0-4047-cf6b-b78e0ced2d46"
      },
      "execution_count": 32,
      "outputs": [
        {
          "output_type": "stream",
          "name": "stdout",
          "text": [
            " * Serving Flask app '__main__'\n",
            " * Debug mode: off\n"
          ]
        },
        {
          "output_type": "stream",
          "name": "stderr",
          "text": [
            "INFO:werkzeug:\u001b[31m\u001b[1mWARNING: This is a development server. Do not use it in a production deployment. Use a production WSGI server instead.\u001b[0m\n",
            " * Running on http://127.0.0.1:5000\n",
            "INFO:werkzeug:\u001b[33mPress CTRL+C to quit\u001b[0m\n"
          ]
        }
      ]
    },
    {
      "cell_type": "code",
      "source": [
        "# How can you validate form data in Flask?\n",
        "from flask import Flask,render_template,redirect,request,flash\n",
        "from flask_wtf import FlaskForm\n",
        "from wtforms import StringField, PasswordField\n",
        "from wtforms.validators import DataRequired, Length, Email\n",
        "\n",
        "class LoginForm(FlaskForm):\n",
        "        username = StringField('Username', validators=[DataRequired(), Length(min=4, max=25)])\n",
        "        email = StringField('Email', validators=[DataRequired(), Email()])\n",
        "        password = PasswordField('Password', validators=[DataRequired()])\n",
        "\n",
        "\n",
        "@app.route('/login', methods=['GET', 'POST'])\n",
        "def login():\n",
        "        form = LoginForm()\n",
        "        if form.validate_on_submit():\n",
        "            # Form data is valid, process it\n",
        "            username = form.username.data\n",
        "            email = form.email.data\n",
        "            password = form.password.data\n",
        "            flash(f'Login successful for {username}!')\n",
        "            return render_template('success.html', username=username)\n",
        "        return render_template('login.html', form=form)\n",
        "\n",
        "if __name__ == \"__main__\":\n",
        "  app.run()\n",
        "\n",
        "\n"
      ],
      "metadata": {
        "id": "J16GBdpnXDNS",
        "colab": {
          "base_uri": "https://localhost:8080/"
        },
        "outputId": "7a29bfa6-c3aa-448d-fbea-af7fc9bba451"
      },
      "execution_count": 39,
      "outputs": [
        {
          "output_type": "stream",
          "name": "stdout",
          "text": [
            " * Serving Flask app '__main__'\n",
            " * Debug mode: off\n"
          ]
        },
        {
          "output_type": "stream",
          "name": "stderr",
          "text": [
            "INFO:werkzeug:\u001b[31m\u001b[1mWARNING: This is a development server. Do not use it in a production deployment. Use a production WSGI server instead.\u001b[0m\n",
            " * Running on http://127.0.0.1:5000\n",
            "INFO:werkzeug:\u001b[33mPress CTRL+C to quit\u001b[0m\n"
          ]
        }
      ]
    },
    {
      "cell_type": "code",
      "source": [
        "# How do you redirect to a different route in Flask\n",
        "\n",
        "from flask import Flask,render_template,redirect,request\n",
        "app = Flask(__name__)\n",
        "\n",
        "@app.route('/',methods=['GET'])\n",
        "def home():\n",
        "   return render_template('index.html')\n",
        "\n",
        "\n",
        "@app.route('/wel',methods=['POST'])\n",
        "def welcome():\n",
        "   return redirect('welcome.html')"
      ],
      "metadata": {
        "id": "gpL7UJq9XJDz"
      },
      "execution_count": null,
      "outputs": []
    },
    {
      "cell_type": "code",
      "source": [
        "# How do you handle errors in Flask (e.g., 404)?\n",
        "from flask import Flask, render_template\n",
        "\n",
        "app = Flask(__name__)\n",
        "\n",
        "@app.errorhandler(404)\n",
        "def page_not_found(error):\n",
        "        return render_template('404.html'), 404"
      ],
      "metadata": {
        "id": "CJg9gwYQXLee"
      },
      "execution_count": 40,
      "outputs": []
    },
    {
      "cell_type": "code",
      "source": [
        "#  How do you structure a Flask app using Blueprints?\n",
        "\n",
        "# auth/__init__.py\n",
        "\n",
        "from flask import Blueprint\n",
        "\n",
        "auth_bp = Blueprint('auth', __name__)\n",
        "\n",
        "# Import routes within this Blueprint\n",
        "from . import routes\n",
        "\n",
        "# auth/routes.py\n",
        "from . import auth_bp\n",
        "\n",
        "@auth_bp.route('/login')\n",
        "def login():\n",
        "    return \"Login Page\"\n",
        "\n",
        "@auth_bp.route('/register')\n",
        "def register():\n",
        "    return \"Register Page\"\n",
        "\n",
        "\n",
        "# app.py\n",
        "from flask import Flask\n",
        "\n",
        "def create_app():\n",
        "    app = Flask(__name__)\n",
        "\n",
        "    # Register Blueprints\n",
        "    from auth import auth_bp\n",
        "    app.register_blueprint(auth_bp, url_prefix='/auth')\n",
        "\n",
        "    # Add other Blueprint registrations here\n",
        "\n",
        "    return app\n",
        "\n",
        "if __name__ == '__main__':\n",
        "    app = create_app()\n",
        "    app.run(debug=True)\n"
      ],
      "metadata": {
        "id": "M7SL6lgWXOsj"
      },
      "execution_count": null,
      "outputs": []
    },
    {
      "cell_type": "code",
      "source": [
        "# How do you define a custom Jinja filter in Flask?\n",
        "from flask import Flask\n",
        "\n",
        "@app.template_filter()\n",
        "def pretty_date(dttm):\n",
        "    return dttm.strftime(\"%m/%d\")\n",
        "\n",
        "\n",
        "\n",
        "if __name__ == \"__main__\":\n",
        "   app.run()\n",
        "\n",
        "# my_template.html\n",
        "# My date is {{ my_object.created_at | pretty_date }}"
      ],
      "metadata": {
        "id": "WI_G-eHUXUPI",
        "colab": {
          "base_uri": "https://localhost:8080/"
        },
        "outputId": "ba5812c1-333b-405e-afb8-6006c04cf7b7"
      },
      "execution_count": 42,
      "outputs": [
        {
          "output_type": "stream",
          "name": "stdout",
          "text": [
            " * Serving Flask app '__main__'\n",
            " * Debug mode: off\n"
          ]
        },
        {
          "output_type": "stream",
          "name": "stderr",
          "text": [
            "INFO:werkzeug:\u001b[31m\u001b[1mWARNING: This is a development server. Do not use it in a production deployment. Use a production WSGI server instead.\u001b[0m\n",
            " * Running on http://127.0.0.1:5000\n",
            "INFO:werkzeug:\u001b[33mPress CTRL+C to quit\u001b[0m\n"
          ]
        }
      ]
    },
    {
      "cell_type": "code",
      "source": [
        "# How can you redirect with query parameters in Flask?\n",
        "\n",
        "\n",
        "from flask import Flask, redirect, url_for,request\n",
        "\n",
        "app = Flask(__name__)\n",
        "\n",
        "@app.route('/')\n",
        "def index():\n",
        "    # Redirect to the 'search' endpoint with a query parameter 'query'\n",
        "    return redirect(url_for('search', query='flask_tutorial'))\n",
        "\n",
        "@app.route('/search')\n",
        "def search():\n",
        "    # Access the query parameter from the request arguments\n",
        "    search_query = request.args.get('query')\n",
        "    if search_query:\n",
        "        return f\"Searching for: {search_query}\"\n",
        "    else:\n",
        "        return \"No query provided.\"\n",
        "\n",
        "if __name__ == '__main__':\n",
        "    app.run(debug=True)"
      ],
      "metadata": {
        "id": "B1InfsvBXVNB"
      },
      "execution_count": null,
      "outputs": []
    },
    {
      "cell_type": "code",
      "source": [
        "# How do you return JSON responses in Flask?\n",
        "\n",
        "\n",
        "from flask import Flask,jsonify,request\n",
        "\n",
        "app = Flask(__name__)\n",
        "\n",
        "@app.route('/')\n",
        "def index():\n",
        "    data  = {\"name\":\"akash\",\"lname\":\"shere\",\"mob\":9876543210}\n",
        "    return jsonify(data)"
      ],
      "metadata": {
        "id": "m0IRCywRXYLr"
      },
      "execution_count": null,
      "outputs": []
    },
    {
      "cell_type": "code",
      "source": [
        "# How do you capture URL parameters in Flask?\n",
        "\n",
        "from flask import Flask\n",
        "\n",
        "app = Flask(__name__)\n",
        "\n",
        "@app.route('/user/<username>')\n",
        "def show_user_profile(username):\n",
        "        return f'User: {username}'\n",
        "\n",
        "@app.route('/post/<int:post_id>')\n",
        "def show_post(post_id):\n",
        "        return f'Post ID: {post_id}'\n",
        "\n",
        "if __name__ == \"__main__\":\n",
        "  app.run()"
      ],
      "metadata": {
        "id": "VKXHf1WCXbWb",
        "colab": {
          "base_uri": "https://localhost:8080/"
        },
        "outputId": "00f14206-8f66-4699-d486-5ba4352086af"
      },
      "execution_count": 43,
      "outputs": [
        {
          "output_type": "stream",
          "name": "stdout",
          "text": [
            " * Serving Flask app '__main__'\n",
            " * Debug mode: off\n"
          ]
        },
        {
          "output_type": "stream",
          "name": "stderr",
          "text": [
            "INFO:werkzeug:\u001b[31m\u001b[1mWARNING: This is a development server. Do not use it in a production deployment. Use a production WSGI server instead.\u001b[0m\n",
            " * Running on http://127.0.0.1:5000\n",
            "INFO:werkzeug:\u001b[33mPress CTRL+C to quit\u001b[0m\n"
          ]
        }
      ]
    }
  ]
}